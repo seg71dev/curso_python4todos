{
 "cells": [
  {
   "cell_type": "markdown",
   "metadata": {},
   "source": [
    "# Funciones propias de Python"
   ]
  },
  {
   "cell_type": "markdown",
   "metadata": {},
   "source": [
    "El intérprete de Python tiene una serie de funciones que están siempre disponibles. A continuación se enumeran en orden alfabético."
   ]
  },
  {
   "cell_type": "markdown",
   "metadata": {},
   "source": [
    "<table>\n",
    "<colgroup>\n",
    "<col style=\"width: 21%\">\n",
    "<col style=\"width: 18%\">\n",
    "<col style=\"width: 20%\">\n",
    "<col style=\"width: 20%\">\n",
    "<col style=\"width: 22%\">\n",
    "</colgroup>\n",
    "<thead>\n",
    "<tr><th></th>\n",
    "<th></th>\n",
    "<th><p>Built-in Functions</p></th>\n",
    "<th></th>\n",
    "<th></th>\n",
    "</tr>\n",
    "</thead>\n",
    "<tbody>\n",
    "<tr><td><p><code><span>abs()</span></code></p></td>\n",
    "<td><p><code><span>delattr()</span></code></p></td>\n",
    "<td><p><code><span>hash()</span></code></p></td>\n",
    "<td><p><code><span>memoryview()</span></code></p></td>\n",
    "<td><p><code><span>set()</span></code></p></td>\n",
    "</tr>\n",
    "<tr><td><p><code><span>all()</span></code></p></td>\n",
    "<td><p><code><span>dict()</span></code></p></td>\n",
    "<td><p><code><span>help()</span></code></p></td>\n",
    "<td><p><code><span>min()</span></code></p></td>\n",
    "<td><p><code><span>setattr()</span></code></p></td>\n",
    "</tr>\n",
    "<tr><td><p><code><span>any()</span></code></p></td>\n",
    "<td><p><code><span>dir()</span></code></p></td>\n",
    "<td><p><code><span>hex()</span></code></p></td>\n",
    "<td><p><code><span>next()</span></code></p></td>\n",
    "<td><p><code><span>slice()</span></code></p></td>\n",
    "</tr>\n",
    "<tr><td><p><code><span>ascii()</span></code></p></td>\n",
    "<td><p><code><span>divmod()</span></code></p></td>\n",
    "<td><p><code><span>id()</span></code></p></td>\n",
    "<td><p><code><span>object()</span></code></p></td>\n",
    "<td><p><code><span>sorted()</span></code></p></td>\n",
    "</tr>\n",
    "<tr><td><p><code><span>bin()</span></code></p></td>\n",
    "<td><p><code><span>enumerate()</span></code></p></td>\n",
    "<td><p><code><span>input()</span></code></p></td>\n",
    "<td><p><code><span>oct()</span></code></p></td>\n",
    "<td><p><code><span>staticmethod()</span></code></p></td>\n",
    "</tr>\n",
    "<tr><td><p><code><span>bool()</span></code></p></td>\n",
    "<td><p><code><span>eval()</span></code></p></td>\n",
    "<td><p><code><span>int()</span></code></p></td>\n",
    "<td><p><code><span>open()</span></code></p></td>\n",
    "<td><p><code><span>str()</span></code></p></td>\n",
    "</tr>\n",
    "<tr><td><p><code><span>breakpoint()</span></code></p></td>\n",
    "<td><p><code><span>exec()</span></code></p></td>\n",
    "<td><p><code><span>isinstance()</span></code></p></td>\n",
    "<td><p><code><span>ord()</span></code></p></td>\n",
    "<td><p><code><span>sum()</span></code></p></td>\n",
    "</tr>\n",
    "<tr><td><p><code><span>bytearray()</span></code></p></td>\n",
    "<td><p><code><span>filter()</span></code></p></td>\n",
    "<td><p><code><span>issubclass()</span></code></p></td>\n",
    "<td><p><code><span>pow()</span></code></p></td>\n",
    "<td><p><code><span>super()</span></code></p></td>\n",
    "</tr>\n",
    "<tr><td><p><code><span>bytes()</span></code></p></td>\n",
    "<td><p><code><span>float()</span></code></p></td>\n",
    "<td><p><code><span>iter()</span></code></p></td>\n",
    "<td><p><code><span>print()</span></code></p></td>\n",
    "<td><p><code><span>tuple()</span></code></p></td>\n",
    "</tr>\n",
    "<tr><td><p><code><span>callable()</span></code></p></td>\n",
    "<td><p><code><span>format()</span></code></p></td>\n",
    "<td><p><code><span>len()</span></code></p></td>\n",
    "<td><p><code><span>property()</span></code></p></td>\n",
    "<td><p><code><span>type()</span></code></p></td>\n",
    "</tr>\n",
    "<tr><td><p><code><span>chr()</span></code></p></td>\n",
    "<td><p><code><span>frozenset()</span></code></p></td>\n",
    "<td><p><code><span>list()</span></code></p></td>\n",
    "<td><p><code><span>range()</span></code></p></td>\n",
    "<td><p><code><span>vars()</span></code></p></td>\n",
    "</tr>\n",
    "<tr><td><p><code><span>classmethod()</span></code></p></td>\n",
    "<td><p><code><span>getattr()</span></code></p></td>\n",
    "<td><p><code><span>locals()</span></code></p></td>\n",
    "<td><p><code><span>repr()</span></code></p></td>\n",
    "<td><p><code><span>zip()</span></code></p></td>\n",
    "</tr>\n",
    "<tr><td><p><code><span>compile()</span></code></p></td>\n",
    "<td><p><code><span>globals()</span></code></p></td>\n",
    "<td><p><code><span>map()</span></code></p></td>\n",
    "<td><p><code><span>reversed()</span></code></p></td>\n",
    "<td><p><code><span>__import__()</span></code></p></td>\n",
    "</tr>\n",
    "<tr><td><p><code><span>complex()</span></code></p></td>\n",
    "<td><p><code><span>hasattr()</span></code></p></td>\n",
    "<td><p><code><span>max()</span></code></p></td>\n",
    "<td><p><code><span>round()</span></code></p></td>\n",
    "<td></td>\n",
    "</tr>\n",
    "</tbody>\n",
    "</table>\n",
    "<br>\n",
    "<center>https://docs.python.org/3/library/functions.html</center>"
   ]
  },
  {
   "cell_type": "markdown",
   "metadata": {},
   "source": [
    "### help()"
   ]
  },
  {
   "cell_type": "markdown",
   "metadata": {},
   "source": [
    "Esta función se utiliza para mostrar la documentación de un objeto en Python."
   ]
  },
  {
   "cell_type": "code",
   "execution_count": 1,
   "metadata": {},
   "outputs": [
    {
     "name": "stdout",
     "output_type": "stream",
     "text": [
      "\n",
      "Welcome to Python 3.8's help utility!\n",
      "\n",
      "If this is your first time using Python, you should definitely check out\n",
      "the tutorial on the Internet at https://docs.python.org/3.8/tutorial/.\n",
      "\n",
      "Enter the name of any module, keyword, or topic to get help on writing\n",
      "Python programs and using Python modules.  To quit this help utility and\n",
      "return to the interpreter, just type \"quit\".\n",
      "\n",
      "To get a list of available modules, keywords, symbols, or topics, type\n",
      "\"modules\", \"keywords\", \"symbols\", or \"topics\".  Each module also comes\n",
      "with a one-line summary of what it does; to list the modules whose name\n",
      "or summary contain a given string such as \"spam\", type \"modules spam\".\n",
      "\n",
      "\n",
      "You are now leaving help and returning to the Python interpreter.\n",
      "If you want to ask for help on a particular object directly from the\n",
      "interpreter, you can type \"help(object)\".  Executing \"help('string')\"\n",
      "has the same effect as typing a particular string at the help> prompt.\n"
     ]
    }
   ],
   "source": [
    "help()"
   ]
  },
  {
   "cell_type": "markdown",
   "metadata": {},
   "source": [
    "### print()"
   ]
  },
  {
   "cell_type": "code",
   "execution_count": 2,
   "metadata": {},
   "outputs": [
    {
     "name": "stdout",
     "output_type": "stream",
     "text": [
      "Help on built-in function print in module builtins:\n",
      "\n",
      "print(...)\n",
      "    print(value, ..., sep=' ', end='\\n', file=sys.stdout, flush=False)\n",
      "    \n",
      "    Prints the values to a stream, or to sys.stdout by default.\n",
      "    Optional keyword arguments:\n",
      "    file:  a file-like object (stream); defaults to the current sys.stdout.\n",
      "    sep:   string inserted between values, default a space.\n",
      "    end:   string appended after the last value, default a newline.\n",
      "    flush: whether to forcibly flush the stream.\n",
      "\n"
     ]
    }
   ],
   "source": [
    "help(print)"
   ]
  },
  {
   "cell_type": "code",
   "execution_count": 3,
   "metadata": {},
   "outputs": [
    {
     "name": "stdout",
     "output_type": "stream",
     "text": [
      "Hola mundo\n"
     ]
    }
   ],
   "source": [
    "print(\"Hola mundo\")"
   ]
  },
  {
   "cell_type": "code",
   "execution_count": 4,
   "metadata": {},
   "outputs": [
    {
     "name": "stdout",
     "output_type": "stream",
     "text": [
      "Este es el número 3\n"
     ]
    }
   ],
   "source": [
    "print(\"Este es el número\", 3)"
   ]
  },
  {
   "cell_type": "code",
   "execution_count": 5,
   "metadata": {},
   "outputs": [
    {
     "name": "stdout",
     "output_type": "stream",
     "text": [
      "Este es el número:3\n"
     ]
    }
   ],
   "source": [
    "print(\"Este es el número\", 3, sep=\":\")"
   ]
  },
  {
   "cell_type": "markdown",
   "metadata": {},
   "source": [
    "### str(), int(), float()"
   ]
  },
  {
   "cell_type": "code",
   "execution_count": 6,
   "metadata": {},
   "outputs": [],
   "source": [
    "texto = \"10\" # string\n",
    "num_int = 10 # int \n",
    "num_float = 10.6 # float"
   ]
  },
  {
   "cell_type": "code",
   "execution_count": 7,
   "metadata": {},
   "outputs": [
    {
     "data": {
      "text/plain": [
       "10"
      ]
     },
     "execution_count": 7,
     "metadata": {},
     "output_type": "execute_result"
    }
   ],
   "source": [
    "int(num_float)"
   ]
  },
  {
   "cell_type": "code",
   "execution_count": 8,
   "metadata": {},
   "outputs": [
    {
     "data": {
      "text/plain": [
       "10"
      ]
     },
     "execution_count": 8,
     "metadata": {},
     "output_type": "execute_result"
    }
   ],
   "source": [
    "int(texto)"
   ]
  },
  {
   "cell_type": "code",
   "execution_count": 9,
   "metadata": {},
   "outputs": [
    {
     "data": {
      "text/plain": [
       "'10'"
      ]
     },
     "execution_count": 9,
     "metadata": {},
     "output_type": "execute_result"
    }
   ],
   "source": [
    "str(num_int)"
   ]
  },
  {
   "cell_type": "code",
   "execution_count": 10,
   "metadata": {},
   "outputs": [
    {
     "data": {
      "text/plain": [
       "'10.6'"
      ]
     },
     "execution_count": 10,
     "metadata": {},
     "output_type": "execute_result"
    }
   ],
   "source": [
    "str(num_float)"
   ]
  },
  {
   "cell_type": "markdown",
   "metadata": {},
   "source": [
    "### type()"
   ]
  },
  {
   "cell_type": "markdown",
   "metadata": {},
   "source": [
    "Retorna el tipo del objeto que le proporcionamos como argumento."
   ]
  },
  {
   "cell_type": "code",
   "execution_count": 11,
   "metadata": {},
   "outputs": [
    {
     "data": {
      "text/plain": [
       "int"
      ]
     },
     "execution_count": 11,
     "metadata": {},
     "output_type": "execute_result"
    }
   ],
   "source": [
    "type(10)"
   ]
  },
  {
   "cell_type": "code",
   "execution_count": 12,
   "metadata": {},
   "outputs": [
    {
     "data": {
      "text/plain": [
       "str"
      ]
     },
     "execution_count": 12,
     "metadata": {},
     "output_type": "execute_result"
    }
   ],
   "source": [
    "type(\"10\")"
   ]
  },
  {
   "cell_type": "code",
   "execution_count": 13,
   "metadata": {},
   "outputs": [
    {
     "data": {
      "text/plain": [
       "float"
      ]
     },
     "execution_count": 13,
     "metadata": {},
     "output_type": "execute_result"
    }
   ],
   "source": [
    "type(10.5)"
   ]
  },
  {
   "cell_type": "markdown",
   "metadata": {},
   "source": [
    "### id()"
   ]
  },
  {
   "cell_type": "code",
   "execution_count": 14,
   "metadata": {},
   "outputs": [
    {
     "name": "stdout",
     "output_type": "stream",
     "text": [
      "Help on built-in function id in module builtins:\n",
      "\n",
      "id(obj, /)\n",
      "    Return the identity of an object.\n",
      "    \n",
      "    This is guaranteed to be unique among simultaneously existing objects.\n",
      "    (CPython uses the object's memory address.)\n",
      "\n"
     ]
    }
   ],
   "source": [
    "help(id)"
   ]
  },
  {
   "cell_type": "code",
   "execution_count": 15,
   "metadata": {},
   "outputs": [],
   "source": [
    "var = \"Hola mundo\""
   ]
  },
  {
   "cell_type": "code",
   "execution_count": 16,
   "metadata": {},
   "outputs": [
    {
     "data": {
      "text/plain": [
       "2595768893104"
      ]
     },
     "execution_count": 16,
     "metadata": {},
     "output_type": "execute_result"
    }
   ],
   "source": [
    "id(var)"
   ]
  },
  {
   "cell_type": "markdown",
   "metadata": {},
   "source": [
    "Debemos tener en cuenta que el identificador hace referencia al objeto, en este caso al string, y no a la variable a la que esta asignado."
   ]
  },
  {
   "cell_type": "code",
   "execution_count": 17,
   "metadata": {},
   "outputs": [],
   "source": [
    "var2 = var"
   ]
  },
  {
   "cell_type": "code",
   "execution_count": 18,
   "metadata": {},
   "outputs": [
    {
     "data": {
      "text/plain": [
       "2595768893104"
      ]
     },
     "execution_count": 18,
     "metadata": {},
     "output_type": "execute_result"
    }
   ],
   "source": [
    "id(var2)"
   ]
  },
  {
   "cell_type": "markdown",
   "metadata": {},
   "source": [
    "### exec()"
   ]
  },
  {
   "cell_type": "code",
   "execution_count": 19,
   "metadata": {},
   "outputs": [
    {
     "name": "stdout",
     "output_type": "stream",
     "text": [
      "Help on built-in function exec in module builtins:\n",
      "\n",
      "exec(source, globals=None, locals=None, /)\n",
      "    Execute the given source in the context of globals and locals.\n",
      "    \n",
      "    The source may be a string representing one or more Python statements\n",
      "    or a code object as returned by compile().\n",
      "    The globals must be a dictionary and locals can be any mapping,\n",
      "    defaulting to the current globals and locals.\n",
      "    If only globals is given, locals defaults to it.\n",
      "\n"
     ]
    }
   ],
   "source": [
    "help(exec)"
   ]
  },
  {
   "cell_type": "code",
   "execution_count": 20,
   "metadata": {},
   "outputs": [],
   "source": [
    "var = \"print('Hola mundo')\""
   ]
  },
  {
   "cell_type": "code",
   "execution_count": 21,
   "metadata": {},
   "outputs": [
    {
     "name": "stdout",
     "output_type": "stream",
     "text": [
      "Hola mundo\n"
     ]
    }
   ],
   "source": [
    "exec(var)"
   ]
  }
 ],
 "metadata": {
  "kernelspec": {
   "display_name": "Python 3",
   "language": "python",
   "name": "python3"
  },
  "language_info": {
   "codemirror_mode": {
    "name": "ipython",
    "version": 3
   },
   "file_extension": ".py",
   "mimetype": "text/x-python",
   "name": "python",
   "nbconvert_exporter": "python",
   "pygments_lexer": "ipython3",
   "version": "3.9.2"
  }
 },
 "nbformat": 4,
 "nbformat_minor": 4
}
