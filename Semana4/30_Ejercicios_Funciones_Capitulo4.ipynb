{
 "cells": [
  {
   "cell_type": "markdown",
   "metadata": {},
   "source": [
    "# 🐍 30 EJERCICIOS ESPECIALIZADOS - CAPÍTULO 4: FUNCIONES\n",
    "\n",
    "---\n",
    "\n",
    "## 📋 **INFORMACIÓN DEL CURSO**\n",
    "\n",
    "| **Campo** | **Detalle** |\n",
    "|-----------|-------------|\n",
    "| **Curso Base** | Python para Todos - Universidad de Michigan |\n",
    "| **Capítulo** | 4 - Funciones Definidas por el Usuario |\n",
    "| **Nivel** | Principiante → Intermedio Avanzado |\n",
    "| **Distribución** | 6 Básicos (20%) + 12 Intermedios (40%) + 12 Avanzados (40%) |\n",
    "| **Enfoque** | Solo Funciones (sin bucles) + Integración Caps 2-3 |\n",
    "| **Objetivo** | Dominio experto de funciones Python |\n",
    "\n",
    "---\n",
    "\n",
    "## 🎯 **CONCEPTOS CLAVE CUBIERTOS**\n",
    "\n",
    "✅ Definición de funciones con **`def`**  \n",
    "✅ Parámetros vs argumentos  \n",
    "✅ Funciones productivas vs estériles (**`return`** vs **`print`**)  \n",
    "✅ Variables locales vs globales (**scope**)  \n",
    "✅ Conversiones de tipos en funciones  \n",
    "✅ Funciones anidadas y composición  \n",
    "✅ Argumentos posicionales y por defecto  \n",
    "✅ Return múltiple y desempaquetado  \n",
    "✅ Validación y control de errores  \n",
    "✅ Integración con condicionales del Capítulo 2  \n",
    "✅ Aplicaciones reales y sistemas complejos  \n",
    "\n",
    "---\n",
    "\n",
    "## 📚 **FUENTES DEL PROYECTO UTILIZADAS**\n",
    "\n",
    "• **PythonParaTodos.pdf** - Capítulo 4 Funciones  \n",
    "• **capitulo4.ipynb** - Ejemplos prácticos y código  \n",
    "• **Funciones.ipynb** - Conceptos avanzados  \n",
    "• **caiptulo4_Funciones.txt** - Explicaciones detalladas  \n",
    "• **199ejerciciosEstefania.txt** - Ejercicios complementarios  "
   ]
  },
  {
   "cell_type": "markdown",
   "metadata": {},
   "source": [
    "---\n",
    "\n",
    "# 🟢 EJERCICIOS BÁSICOS (1-6) - 20%\n",
    "\n",
    "**Fundamentos esenciales de definición y uso de funciones**"
   ]
  },
  {
   "cell_type": "markdown",
   "metadata": {},
   "source": [
    "## 📝 **EJERCICIO 1: PRIMERA FUNCIÓN**\n",
    "\n",
    "**Nivel:** Básico | **Tipo:** Definición básica | **Conceptos:** def, invocación\n",
    "\n",
    "**Enunciado:**\n",
    "\n",
    "Crea una función llamada **`presentacion()`** que imprima exactamente:\n",
    "- \"¡Hola! Soy una función de Python\"\n",
    "- \"Estoy aquí para ayudarte a programar\"\n",
    "\n",
    "Luego invócala para que muestre el mensaje.\n",
    "\n",
    "**🔑 Punto clave:** Distingue entre DEFINIR (def) e INVOCAR (llamar) la función."
   ]
  },
  {
   "cell_type": "code",
   "execution_count": 76,
   "metadata": {},
   "outputs": [],
   "source": [
    "# ESCRIBE TU CÓDIGO AQUÍ:\n",
    "def pesentacion():\n",
    "    \"\"\"Funcion que muestra por pantalla:\n",
    "- \"¡Hola! Soy una función de Python\"\n",
    "- \"Estoy aquí para ayudarte a programar\"\n",
    "Keyboads: No tiene parametros\n",
    "    \"\"\"\n",
    "    print(\"¡Hola! Soy una función de Python\")\n",
    "    print(\"Estoy aqui para ayudarte a programar\")\n"
   ]
  },
  {
   "cell_type": "code",
   "execution_count": 77,
   "metadata": {},
   "outputs": [
    {
     "name": "stdout",
     "output_type": "stream",
     "text": [
      "¡Hola! Soy una función de Python\n",
      "Estoy aqui para ayudarte a programar\n"
     ]
    }
   ],
   "source": [
    "pesentacion()"
   ]
  },
  {
   "cell_type": "markdown",
   "metadata": {},
   "source": [
    "## 📝 **EJERCICIO 2: FUNCIÓN CON PARÁMETRO ÚNICO**\n",
    "\n",
    "**Nivel:** Básico | **Tipo:** Parámetros | **Conceptos:** argumentos, interpolación\n",
    "\n",
    "**Enunciado:**\n",
    "\n",
    "Define una función **`saludar_estudiante(nombre)`** que reciba un nombre y muestre: \n",
    "\"Bienvenido al curso de Python, [nombre]\"\n",
    "\n",
    "Pruébala con al menos 3 nombres diferentes.\n",
    "\n",
    "**🔑 Punto clave:** El parámetro 'nombre' es como una variable temporal dentro de la función."
   ]
  },
  {
   "cell_type": "code",
   "execution_count": 78,
   "metadata": {},
   "outputs": [],
   "source": [
    "# ESCRIBE TU CÓDIGO AQUÍ:\n",
    "def saludar_estudiante(nombre):\n",
    "    \"\"\"Función con un parametro. que muestra por pantalla:\n",
    "     - \"Bienvenido al curso de Python, [nombre]\"\n",
    "    \"\"\"\n",
    "    print(f\"Bienvenido al curso de Python, {nombre}\")\n"
   ]
  },
  {
   "cell_type": "code",
   "execution_count": 79,
   "metadata": {},
   "outputs": [
    {
     "name": "stdout",
     "output_type": "stream",
     "text": [
      "Bienvenido al curso de Python, Segundo\n",
      "Bienvenido al curso de Python, Pepe\n",
      "Bienvenido al curso de Python, Juan\n"
     ]
    }
   ],
   "source": [
    "var = \"Segundo\"\n",
    "saludar_estudiante(var)\n",
    "var1 = \"Pepe\"\n",
    "saludar_estudiante(var1)\n",
    "var2 = \"Juan\"\n",
    "saludar_estudiante(var2)"
   ]
  },
  {
   "cell_type": "markdown",
   "metadata": {},
   "source": [
    "## 📝 **EJERCICIO 3: FUNCIÓN CON DOS PARÁMETROS**\n",
    "\n",
    "**Nivel:** Básico | **Tipo:** Múltiples parámetros | **Conceptos:** orden de argumentos\n",
    "\n",
    "**Enunciado:**\n",
    "\n",
    "Crea **`mostrar_operacion(numero1, numero2)`** que imprima:\n",
    "- \"Los números son: [numero1] y [numero2]\"\n",
    "- \"Su suma es: [resultado]\"\n",
    "- \"Su multiplicación es: [resultado]\"\n",
    "\n",
    "Prueba con diferentes pares de números. ¿Qué pasa si cambias el orden de los argumentos?\n",
    "\n",
    "**🔑 Punto clave:** El orden de los argumentos debe coincidir con el orden de los parámetros."
   ]
  },
  {
   "cell_type": "code",
   "execution_count": 80,
   "metadata": {},
   "outputs": [],
   "source": [
    "#  ESCRIBE TU CÓDIGO AQUÍ:\n",
    "def mostrar_operaciones(numero1, numero2):\n",
    "    \"\"\"Función que muestra dos numero, la suma y multiplicación de estos dos nuemeros\n",
    "    Keyboards:\n",
    "    numero1 -- sera un float\n",
    "    numero2 -- sera un float\n",
    "    Devuelve: \n",
    "- \"Los números son: [numero1] y [numero2]\"\n",
    "- \"Su suma es: [resultado]\"\n",
    "- \"Su multiplicación es: [resultado]\"\n",
    "\n",
    "    \"\"\"\n",
    "    print(f\"{numero1} y {numero2}\")\n",
    "    print(f\"{numero1} + {numero2} es igual a {numero1 + numero2}\")\n",
    "    print(f\"{numero1} * {numero2} es igual a {numero1 * numero2}\")\n",
    "\n"
   ]
  },
  {
   "cell_type": "code",
   "execution_count": 81,
   "metadata": {},
   "outputs": [
    {
     "name": "stdout",
     "output_type": "stream",
     "text": [
      "3 y 4\n",
      "3 + 4 es igual a 7\n",
      "3 * 4 es igual a 12\n"
     ]
    }
   ],
   "source": [
    "mostrar_operaciones(3, 4)"
   ]
  },
  {
   "cell_type": "markdown",
   "metadata": {},
   "source": [
    "## 📝 **EJERCICIO 4: PRIMERA FUNCIÓN CON RETURN**\n",
    "\n",
    "**Nivel:** Básico | **Tipo:** Return básico | **Conceptos:** función productiva\n",
    "\n",
    "**Enunciado:**\n",
    "\n",
    "Define **`obtener_mensaje_motivacional()`** que RETORNE (no imprima) la cadena:\n",
    "\"Python es increíble y tú lo estás dominando\"\n",
    "\n",
    "Luego, en el código principal:\n",
    "1. Llama a la función y asigna el resultado a una variable\n",
    "2. Imprime esa variable\n",
    "3. Comprueba el tipo de dato que retorna\n",
    "\n",
    "**🔑 Punto clave:** return DEVUELVE un valor, print solo muestra en pantalla."
   ]
  },
  {
   "cell_type": "code",
   "execution_count": 109,
   "metadata": {},
   "outputs": [],
   "source": [
    "#  ESCRIBE TU CÓDIGO AQUÍ:\n",
    "def obtener_mensaje_motivacional():\n",
    "    \"\"\"Función que devuelve un mensaje.Utiliza la sentencia \"return`\"\n",
    "    Keyboards:\n",
    "    - No tiene ningin parámetro.\n",
    "    - Devuelve el mensaje con la sentecia return \"Python es increíble y tú lo estás dominando\"\n",
    "\n",
    "    \"\"\"\n",
    "    return \"Python es increíble y tú lo estás dominando\"\n"
   ]
  },
  {
   "cell_type": "code",
   "execution_count": 110,
   "metadata": {},
   "outputs": [
    {
     "name": "stdout",
     "output_type": "stream",
     "text": [
      "Python es increíble y tú lo estás dominando\n"
     ]
    }
   ],
   "source": [
    "var = obtener_mensaje_motivacional()\n",
    "print(var)"
   ]
  },
  {
   "cell_type": "markdown",
   "metadata": {},
   "source": [
    "## 📝 **EJERCICIO 5: FUNCIÓN CALCULADORA BÁSICA**\n",
    "\n",
    "**Nivel:** Básico | **Tipo:** Cálculos con return | **Conceptos:** operaciones matemáticas\n",
    "\n",
    "**Enunciado:**\n",
    "\n",
    "Crea cuatro funciones separadas:\n",
    "- **`sumar(a, b)`** que retorne la suma\n",
    "- **`restar(a, b)`** que retorne la resta\n",
    "- **`multiplicar(a, b)`** que retorne la multiplicación\n",
    "- **`dividir(a, b)`** que retorne la división\n",
    "\n",
    "Prueba cada función y muestra los resultados de operar 15 y 3.\n",
    "\n",
    "**🔑 Punto clave:** Cada función debe ser específica y retornar el resultado del cálculo."
   ]
  },
  {
   "cell_type": "code",
   "execution_count": 132,
   "metadata": {},
   "outputs": [],
   "source": [
    "# ESCRIBE TU CÓDIGO AQUÍ:\n",
    "def mi_suma(num1= 0.0, num2=0.0):\n",
    "    \"\"\"Función suma. suma los dos argumentos y lo devuelve con a return\n",
    "    Keyboards:\n",
    "    - num1 -- float(Valor por defecto 0.0)\n",
    "    - num2 -- float(Valor por defecto 0.0)\n",
    "\n",
    "    \"\"\"\n",
    "    return (num1 + num2)\n",
    "\n",
    "def mi_multiplicacion(num1= 1.0, num2= 1.0):\n",
    "    \"\"\"Función que multiplca dos argumentos.\n",
    "        keyboards:\n",
    "        - num1 -- float(Valor por defecto 1.0)\n",
    "        - num2 -- float(Valor por defecto 1.0)\n",
    "\n",
    "    \"\"\"\n",
    "    return (num1 * num2)\n",
    "\n",
    "def mi_resta(num1=1.0, num2=1.0):\n",
    "    \"\"\"Función que resta dos argumentos.\n",
    "        keyboards:\n",
    "        - num1 -- float(Valor por defecto 1.0)\n",
    "        - num2 -- float(Valor por defecto 1.0)\n",
    "\n",
    "    \"\"\"\n",
    "    return (num1 - num2)\n",
    "\n",
    "def mi_division(num1, num2):\n",
    "    \"\"\"Función división de los dos parámetros. \n",
    "    Keyboards:\n",
    "    devuelve la divison de num1 y num2\n",
    "    contro de errores de dos tipos con try except:\n",
    "    - ZeroDivisionError\n",
    "    - TypeError\n",
    "    \"\"\"\n",
    "    try:\n",
    "        return (num1 / num2)\n",
    "    except ZeroDivisionError:\n",
    "        print(\"No se puede dividir por cero\")\n",
    "    except TypeError:\n",
    "        print(\"Debes poner un número\")\n"
   ]
  },
  {
   "cell_type": "code",
   "execution_count": 131,
   "metadata": {},
   "outputs": [
    {
     "name": "stdout",
     "output_type": "stream",
     "text": [
      "Debes poner un número\n"
     ]
    }
   ],
   "source": [
    "mi_division(1, \"Hoal\")"
   ]
  },
  {
   "cell_type": "code",
   "execution_count": 133,
   "metadata": {},
   "outputs": [
    {
     "name": "stdout",
     "output_type": "stream",
     "text": [
      "Suma : 18\n",
      "Resta: 12\n",
      "Multiplicación: 45\n",
      "División: 5.0\n"
     ]
    }
   ],
   "source": [
    "print(f\"Suma : {mi_suma(15, 3)}\")\n",
    "print(f\"Resta: {mi_resta(15,3)}\")\n",
    "print(f\"Multiplicación: {mi_multiplicacion(15, 3)}\")\n",
    "print(f\"División: {mi_division(15, 3)}\")"
   ]
  },
  {
   "cell_type": "markdown",
   "metadata": {},
   "source": [
    "## 📝 **EJERCICIO 6: ANÁLISIS FUNCIÓN ESTÉRIL VS PRODUCTIVA**\n",
    "\n",
    "**Nivel:** Básico | **Tipo:** Conceptual | **Conceptos:** void vs fruitful functions\n",
    "\n",
    "**Enunciado:**\n",
    "\n",
    "Analiza estas dos funciones:\n",
    "\n",
    "```python\n",
    "def funcion_a(texto):\n",
    "    print(f\"Procesando: {texto}\")\n",
    "\n",
    "def funcion_b(texto):\n",
    "    return f\"Procesado: {texto}\"\n",
    "```\n",
    "\n",
    "Preguntas para responder:\n",
    "1. ¿Cuál es estéril y cuál productiva? ¿Por qué?\n",
    "2. ¿Qué pasa si haces: `resultado = funcion_a(\"hola\")`?\n",
    "3. ¿Qué pasa si haces: `resultado = funcion_b(\"hola\")`?\n",
    "4. ¿Cuándo usarías cada tipo?\n",
    "\n",
    "**🔑 Punto clave:** Las funciones estériles ejecutan acciones, las productivas devuelven valores."
   ]
  },
  {
   "cell_type": "code",
   "execution_count": 134,
   "metadata": {},
   "outputs": [],
   "source": [
    "def funcion_a(texto):\n",
    "    print(f\"Procesando: {texto}\")\n",
    "\n",
    "def funcion_b(texto):\n",
    "    return f\"Procesado: {texto}\""
   ]
  },
  {
   "cell_type": "markdown",
   "metadata": {},
   "source": [
    "Respuestas: \n",
    "1. ¿Cuál es estéril y cuál productiva? ¿Por qué? \n",
    "La funcion funcion_a() es esteril ya que no devcuelve ningun valor ejecuta un sentencia.No hay sentencia return.\n",
    "\"La funcion_b() es productiva ya qyue devuelve un valor(sentencia return).\n",
    "2. ¿Qué pasa si haces: `resultado = funcion_a(\"hola\")`? al asignarla a una variable lo primero se ejecuta la sentencia y luego el valor que da es None.\n",
    "3. ¿Qué pasa si haces: `resultado = funcion_b(\"hola\")`? devuelve el valor que es un string y o asigna a la variable `resultado`\n",
    "4. Prefiero siempre usar el tipo funcion_b(texto) ya que devuelvo un valor. se que valor es y de que tipo. Ñuego lo procesare\n"
   ]
  },
  {
   "cell_type": "code",
   "execution_count": 141,
   "metadata": {},
   "outputs": [
    {
     "name": "stdout",
     "output_type": "stream",
     "text": [
      "Procesando: hola\n",
      "<class 'NoneType'>\n",
      "Procesado: hola\n"
     ]
    }
   ],
   "source": [
    "# 💻 ESCRIBE TU CÓDIGO AQUÍ:\n",
    "# Implementa las funciones y responde las preguntas\n",
    "resultado = funcion_a(\"hola\")\n",
    "print(type(resultado))\n",
    "resultado = funcion_b(\"hola\")\n",
    "print(resultado)"
   ]
  },
  {
   "cell_type": "markdown",
   "metadata": {},
   "source": [
    "---\n",
    "\n",
    "# 🟡 EJERCICIOS INTERMEDIOS (7-18) - 40%\n",
    "\n",
    "**Integración con conceptos previos y casos prácticos**"
   ]
  },
  {
   "cell_type": "markdown",
   "metadata": {},
   "source": [
    "## 📝 **EJERCICIO 7: FUNCIÓN CON CONDICIONALES SIMPLES**\n",
    "\n",
    "**Nivel:** Intermedio | **Tipo:** Integración Cap.2 | **Conceptos:** if/elif/else en funciones\n",
    "\n",
    "**Enunciado:**\n",
    "\n",
    "Define **`clasificar_temperatura(grados)`** que retorne:\n",
    "- \"Muy frío\" si es menor a 0\n",
    "- \"Frío\" si está entre 0 y 15\n",
    "- \"Templado\" si está entre 16 y 25\n",
    "- \"Calor\" si está entre 26 y 35\n",
    "- \"Muy calor\" si es mayor a 35\n",
    "\n",
    "Prueba con: -5, 10, 20, 30, 40\n",
    "\n",
    "**🔑 Punto clave:** Los condicionales dentro de funciones permiten lógica de decisión reutilizable."
   ]
  },
  {
   "cell_type": "code",
   "execution_count": null,
   "metadata": {},
   "outputs": [],
   "source": [
    "# 💻 ESCRIBE TU CÓDIGO AQUÍ:\n",
    "def clasificar_temperatura(grados):\n",
    "    \"\"\" funcion que segun los grados que le demos clasifica la temperatura.\n",
    "    keyboards:\n",
    "    grados -- float no tiene valor por defecto\n",
    "    Realiza una selección segun el valor int o float introducido.\n",
    "\n",
    "    \"\"\"\n",
    "    if grados < 0:\n",
    "        return \"Mucho frío\"\n",
    "    elif grados == 0 or grados < 15:\n",
    "        return \"Frío\"\n",
    "    elif grados == 16 or grados < 25:\n",
    "        return \"Templado\"\n",
    "    elif grados == 26 or grados < 35:\n",
    "        return \"Calor\"\n",
    "    else:\n",
    "        return \"Mucho calor\"\n",
    "    \n",
    "#Prueba con: -5, 10, 20, 30, 40\n"
   ]
  },
  {
   "cell_type": "code",
   "execution_count": 148,
   "metadata": {},
   "outputs": [
    {
     "name": "stdout",
     "output_type": "stream",
     "text": [
      "Mucho frío\n",
      "Frío\n",
      "Templado\n",
      "Calor\n",
      "Mucho calor\n"
     ]
    }
   ],
   "source": [
    "resultado1 = clasificar_temperatura(-5)\n",
    "print(resultado1)\n",
    "resultado1 = clasificar_temperatura(10)\n",
    "print(resultado1)\n",
    "resultado1 = clasificar_temperatura(20)\n",
    "print(resultado1)\n",
    "resultado1 = clasificar_temperatura(30)\n",
    "print(resultado1)\n",
    "resultado1 = clasificar_temperatura(40)\n",
    "print(resultado1)"
   ]
  },
  {
   "cell_type": "markdown",
   "metadata": {},
   "source": [
    "## 📝 **EJERCICIO 8: CONVERSIÓN DE TIPOS CON VALIDACIÓN**\n",
    "\n",
    "**Nivel:** Intermedio | **Tipo:** Tipos de datos | **Conceptos:** int(), float(), str(), validación\n",
    "\n",
    "**Enunciado:**\n",
    "\n",
    "Crea **`convertir_seguro(valor, tipo_destino)`** que:\n",
    "- Si tipo_destino es \"entero\": intenta convertir a int\n",
    "- Si tipo_destino es \"decimal\": intenta convertir a float\n",
    "- Si tipo_destino es \"texto\": convierte a str\n",
    "- Si la conversión falla, retorna \"Error de conversión\"\n",
    "- Si el tipo_destino no es válido, retorna \"Tipo no soportado\"\n",
    "\n",
    "Prueba con: (\"123\", \"entero\"), (\"12.5\", \"decimal\"), (456, \"texto\"), (\"abc\", \"entero\")\n",
    "\n",
    "**🔑 Punto clave:** Las funciones pueden manejar errores y validar entradas."
   ]
  },
  {
   "cell_type": "code",
   "execution_count": 152,
   "metadata": {},
   "outputs": [],
   "source": [
    "# 💻 ESCRIBE TU CÓDIGO AQUÍ:\n",
    "def convertir_seguro(valor, tipo_destino):\n",
    "    \"\"\"Función que convierte tipos de datos y controla el error.\n",
    "\n",
    "    Keyboards:\n",
    "    valor -- valor a convertir \n",
    "    tipo_destino tipo de valor a convertir\n",
    "    Errores de tipo con 'ValueError'\n",
    "\n",
    "    \"\"\"\n",
    "    if tipo_destino == \"entero\":\n",
    "        try:\n",
    "            return int(valor)\n",
    "        except ValueError:\n",
    "            print(\"1. Tipo no soportado.\")\n",
    "    elif tipo_destino == \"decimal\":\n",
    "        try:\n",
    "            return float(valor)\n",
    "        except ValueError:\n",
    "            print(\"2. Tipo no soportado.\")\n",
    "    elif tipo_destino == \"texto\":\n",
    "        try:\n",
    "            return str(valor)\n",
    "        except ValueError:\n",
    "            print(\"3. Tipo no soportado.\")\n",
    "    else: \n",
    "         print(\"4. Tipo no soportado.\")\n",
    "#Prueba con: (\"123\", \"entero\"), (\"12.5\", \"decimal\"), (456, \"texto\"), (\"abc\", \"entero\")\n"
   ]
  },
  {
   "cell_type": "code",
   "execution_count": 156,
   "metadata": {},
   "outputs": [
    {
     "name": "stdout",
     "output_type": "stream",
     "text": [
      "La conversion de \"123\" tipo: <class 'str'> a int es 123 y de tipo <class 'int'>.\n",
      "La conversion de \"12.5\" tipo: <class 'str'> a decimal es 12.5 y de tipo <class 'float'>.\n",
      "La conversion de 456 tipo: <class 'int'> a texto es 456 y de tipo <class 'str'>.\n",
      "1. Tipo no soportado.\n",
      "La conversion de \"abc\" tipo: <class 'str'> a entero es None y de tipo <class 'NoneType'>.\n"
     ]
    }
   ],
   "source": [
    "conversion = convertir_seguro(\"123\", \"entero\")\n",
    "print(f'La conversion de \"123\" tipo: {type(\"123\")} a int es {conversion} y de tipo {type(conversion)}.')\n",
    "conversion = convertir_seguro(\"12.5\", \"decimal\")\n",
    "print(f'La conversion de \"12.5\" tipo: {type(\"12.5\")} a decimal es {conversion} y de tipo {type(conversion)}.')\n",
    "conversion = convertir_seguro(456, \"texto\")\n",
    "print(f'La conversion de 456 tipo: {type(456)} a texto es {conversion} y de tipo {type(conversion)}.')\n",
    "conversion = convertir_seguro(\"abc\", \"entero\")\n",
    "print(f'La conversion de \"abc\" tipo: {type(\"abc\")} a entero es {conversion} y de tipo {type(conversion)}.')"
   ]
  },
  {
   "cell_type": "markdown",
   "metadata": {},
   "source": [
    "## 📝 **EJERCICIO 9: FUNCIÓN CON INPUT DEL USUARIO**\n",
    "\n",
    "**Nivel:** Intermedio | **Tipo:** Interactividad | **Conceptos:** input(), return, validación\n",
    "\n",
    "**Enunciado:**\n",
    "\n",
    "Define **`recopilar_datos_estudiante()`** que:\n",
    "1. Pida el nombre del estudiante\n",
    "2. Pida su edad\n",
    "3. Pida su nota (0-10)\n",
    "4. Retorne una cadena formateada: \"Estudiante: [nombre], Edad: [edad], Nota: [nota]\"\n",
    "\n",
    "La función debe validar que la edad sea un número entero y la nota esté entre 0 y 10.\n",
    "Si algo está mal, debe retornar \"Datos inválidos\".\n",
    "\n",
    "**🔑 Punto clave:** Las funciones pueden encapsular toda la lógica de recopilación de datos."
   ]
  },
  {
   "cell_type": "code",
   "execution_count": 87,
   "metadata": {},
   "outputs": [],
   "source": [
    "# 💻 ESCRIBE TU CÓDIGO AQUÍ:\n",
    "\n"
   ]
  },
  {
   "cell_type": "markdown",
   "metadata": {},
   "source": [
    "## 📝 **EJERCICIO 10: FUNCIONES ANIDADAS (FUNCIÓN LLAMANDO FUNCIÓN)**\n",
    "\n",
    "**Nivel:** Intermedio | **Tipo:** Composición | **Conceptos:** funciones anidadas, reutilización\n",
    "\n",
    "**Enunciado:**\n",
    "\n",
    "Define estas funciones:\n",
    "1. **`calcular_area_rectangulo(base, altura)`** - retorna base * altura\n",
    "2. **`calcular_perimetro_rectangulo(base, altura)`** - retorna 2 * (base + altura)\n",
    "3. **`analisis_rectangulo(base, altura)`** - usa las dos anteriores y retorna:\n",
    "   \"Área: [area], Perímetro: [perimetro], Relación área/perímetro: [relacion]\"\n",
    "\n",
    "Prueba con un rectángulo de 5x8.\n",
    "\n",
    "**🔑 Punto clave:** Las funciones pueden usar otras funciones para crear soluciones más complejas."
   ]
  },
  {
   "cell_type": "code",
   "execution_count": 88,
   "metadata": {},
   "outputs": [],
   "source": [
    "# 💻 ESCRIBE TU CÓDIGO AQUÍ:\n",
    "\n"
   ]
  },
  {
   "cell_type": "markdown",
   "metadata": {},
   "source": [
    "## 📝 **EJERCICIO 11: RETURN MÚLTIPLE Y DESEMPAQUETADO**\n",
    "\n",
    "**Nivel:** Intermedio | **Tipo:** Return avanzado | **Conceptos:** return múltiple, desempaquetado\n",
    "\n",
    "**Enunciado:**\n",
    "\n",
    "Crea **`estadisticas_basicas(num1, num2, num3)`** que retorne simultáneamente:\n",
    "- El mayor de los tres números\n",
    "- El menor de los tres números\n",
    "- El promedio de los tres números\n",
    "\n",
    "Luego muestra cómo capturar los tres valores en variables separadas y también\n",
    "cómo capturarlos en una sola variable (tupla).\n",
    "\n",
    "Prueba con: 15, 8, 22\n",
    "\n",
    "**🔑 Punto clave:** Una función puede retornar múltiples valores usando comas."
   ]
  },
  {
   "cell_type": "code",
   "execution_count": 89,
   "metadata": {},
   "outputs": [],
   "source": [
    "# 💻 ESCRIBE TU CÓDIGO AQUÍ:\n",
    "\n"
   ]
  },
  {
   "cell_type": "markdown",
   "metadata": {},
   "source": [
    "## 📝 **EJERCICIO 12: FUNCIÓN DE VALIDACIÓN BOOLEANA**\n",
    "\n",
    "**Nivel:** Intermedio | **Tipo:** Validación | **Conceptos:** return bool, lógica de validación\n",
    "\n",
    "**Enunciado:**\n",
    "\n",
    "Define **`es_email_valido(email)`** que retorne True si el email cumple:\n",
    "- Contiene exactamente un símbolo @\n",
    "- Tiene al menos un carácter antes del @\n",
    "- Tiene al menos un punto después del @\n",
    "- Termina con al menos 2 caracteres después del último punto\n",
    "\n",
    "Prueba con: \"usuario@dominio.com\", \"usuario@dominio\", \"usuariodominio.com\", \"@dominio.com\"\n",
    "\n",
    "**🔑 Punto clave:** Las funciones de validación retornan True/False para facilitar el control de flujo."
   ]
  },
  {
   "cell_type": "code",
   "execution_count": 90,
   "metadata": {},
   "outputs": [],
   "source": [
    "# 💻 ESCRIBE TU CÓDIGO AQUÍ:\n",
    "\n"
   ]
  },
  {
   "cell_type": "markdown",
   "metadata": {},
   "source": [
    "## 📝 **EJERCICIO 13: FUNCIÓN CON PARÁMETROS POR DEFECTO**\n",
    "\n",
    "**Nivel:** Intermedio | **Tipo:** Parámetros opcionales | **Conceptos:** valores por defecto\n",
    "\n",
    "**Enunciado:**\n",
    "\n",
    "Crea **`generar_saludo(nombre, tratamiento=\"Sr./Sra.\", idioma=\"español\")`** que retorne:\n",
    "- En español: \"[tratamiento] [nombre], ¡bienvenido!\"\n",
    "- En inglés: \"[tratamiento] [nombre], welcome!\"\n",
    "- En francés: \"[tratamiento] [nombre], bienvenue!\"\n",
    "\n",
    "Prueba estas llamadas:\n",
    "- `generar_saludo(\"Ana\")`\n",
    "- `generar_saludo(\"Carlos\", \"Dr.\")`\n",
    "- `generar_saludo(\"Maria\", \"Dra.\", \"inglés\")`\n",
    "- `generar_saludo(\"Pierre\", idioma=\"francés\")`\n",
    "\n",
    "**🔑 Punto clave:** Los parámetros por defecto permiten flexibilidad en las llamadas."
   ]
  },
  {
   "cell_type": "code",
   "execution_count": 91,
   "metadata": {},
   "outputs": [],
   "source": [
    "# 💻 ESCRIBE TU CÓDIGO AQUÍ:\n",
    "\n"
   ]
  },
  {
   "cell_type": "markdown",
   "metadata": {},
   "source": [
    "## 📝 **EJERCICIO 14: SCOPE DE VARIABLES (LOCAL VS GLOBAL)**\n",
    "\n",
    "**Nivel:** Intermedio | **Tipo:** Conceptual avanzado | **Conceptos:** scope, variables locales/globales\n",
    "\n",
    "**Enunciado:**\n",
    "\n",
    "Analiza y predice qué imprimirá este código:\n",
    "\n",
    "```python\n",
    "contador = 100\n",
    "\n",
    "def incrementar():\n",
    "    contador = 1\n",
    "    contador += 5\n",
    "    return contador\n",
    "\n",
    "def mostrar_contador():\n",
    "    return contador\n",
    "```\n",
    "\n",
    "Preguntas:\n",
    "1. ¿Qué devuelve `incrementar()`?\n",
    "2. ¿Qué devuelve `mostrar_contador()` antes y después de llamar `incrementar()`?\n",
    "3. ¿Por qué las variables dentro de las funciones no afectan las globales?\n",
    "\n",
    "**🔑 Punto clave:** Las variables dentro de funciones son locales por defecto."
   ]
  },
  {
   "cell_type": "code",
   "execution_count": 92,
   "metadata": {},
   "outputs": [],
   "source": [
    "# 💻 ESCRIBE TU CÓDIGO AQUÍ:\n",
    "# Implementa el código y responde las preguntas\n",
    "\n"
   ]
  },
  {
   "cell_type": "markdown",
   "metadata": {},
   "source": [
    "## 📝 **EJERCICIO 15: FUNCIÓN PROCESADORA DE TEXTO**\n",
    "\n",
    "**Nivel:** Intermedio | **Tipo:** Manipulación strings | **Conceptos:** métodos string, condicionales\n",
    "\n",
    "**Enunciado:**\n",
    "\n",
    "Define **`procesar_texto(texto, operacion)`** que según la operación retorne:\n",
    "- \"mayus\": texto en mayúsculas\n",
    "- \"minus\": texto en minúsculas\n",
    "- \"titulo\": texto con formato de título\n",
    "- \"longitud\": número de caracteres\n",
    "- \"palabras\": número de palabras\n",
    "- \"invertir\": texto al revés\n",
    "\n",
    "Si la operación no es válida, retorna \"Operación no soportada\".\n",
    "\n",
    "Prueba con: \"Hola Mundo Python\" y todas las operaciones.\n",
    "\n",
    "**🔑 Punto clave:** Una función puede ser un procesador versátil según parámetros."
   ]
  },
  {
   "cell_type": "code",
   "execution_count": 93,
   "metadata": {},
   "outputs": [],
   "source": [
    "# 💻 ESCRIBE TU CÓDIGO AQUÍ:\n",
    "\n"
   ]
  },
  {
   "cell_type": "markdown",
   "metadata": {},
   "source": [
    "## 📝 **EJERCICIO 16: CALCULADORA DE EDAD PRECISA**\n",
    "\n",
    "**Nivel:** Intermedio | **Tipo:** Cálculos complejos | **Conceptos:** lógica de fechas, condicionales\n",
    "\n",
    "**Enunciado:**\n",
    "\n",
    "Crea **`calcular_edad_exacta(dia_nac, mes_nac, año_nac, dia_actual, mes_actual, año_actual)`** que:\n",
    "- Calcule la edad exacta en años\n",
    "- Considere si ya pasó el cumpleaños este año\n",
    "- Retorne también cuántos días faltan para el próximo cumpleaños\n",
    "- El resultado debe ser: \"Edad: [años] años, Próximo cumpleaños en: [días] días\"\n",
    "\n",
    "Prueba con una fecha de nacimiento conocida y la fecha actual.\n",
    "\n",
    "**🔑 Punto clave:** Las funciones pueden encapsular lógica compleja de cálculos."
   ]
  },
  {
   "cell_type": "code",
   "execution_count": 94,
   "metadata": {},
   "outputs": [],
   "source": [
    "# 💻 ESCRIBE TU CÓDIGO AQUÍ:\n",
    "\n"
   ]
  },
  {
   "cell_type": "markdown",
   "metadata": {},
   "source": [
    "## 📝 **EJERCICIO 17: FUNCIÓN GENERADORA DE CONTRASEÑAS**\n",
    "\n",
    "**Nivel:** Intermedio | **Tipo:** Algoritmos | **Conceptos:** lógica condicional, strings\n",
    "\n",
    "**Enunciado:**\n",
    "\n",
    "Define **`generar_password(longitud, incluir_numeros=True, incluir_simbolos=False)`** que:\n",
    "- Genere una contraseña de la longitud especificada\n",
    "- Use letras mayúsculas y minúsculas siempre\n",
    "- Incluya números (0-9) si incluir_numeros es True\n",
    "- Incluya símbolos (!@#$%^&*) si incluir_simbolos es True\n",
    "- Retorne la contraseña generada\n",
    "\n",
    "Simula la \"aleatoriedad\" usando posiciones basadas en la longitud.\n",
    "\n",
    "**🔑 Punto clave:** Las funciones pueden generar contenido dinámico basado en parámetros."
   ]
  },
  {
   "cell_type": "code",
   "execution_count": 95,
   "metadata": {},
   "outputs": [],
   "source": [
    "# 💻 ESCRIBE TU CÓDIGO AQUÍ:\n",
    "\n"
   ]
  },
  {
   "cell_type": "markdown",
   "metadata": {},
   "source": [
    "## 📝 **EJERCICIO 18: FUNCIÓN DE ANÁLISIS NUMÉRICO**\n",
    "\n",
    "**Nivel:** Intermedio | **Tipo:** Análisis matemático | **Conceptos:** múltiples cálculos, return múltiple\n",
    "\n",
    "**Enunciado:**\n",
    "\n",
    "Crea **`analizar_numero(numero)`** que retorne un diccionario con:\n",
    "- \"es_par\": True/False\n",
    "- \"es_positivo\": True/False\n",
    "- \"es_primo\": True/False (para números positivos hasta 100)\n",
    "- \"cuadrado\": número al cuadrado\n",
    "- \"digitos\": cantidad de dígitos\n",
    "- \"suma_digitos\": suma de todos los dígitos\n",
    "\n",
    "Prueba con: 17, -8, 25, 2\n",
    "\n",
    "**🔑 Punto clave:** Las funciones pueden realizar análisis completos y estructurados."
   ]
  },
  {
   "cell_type": "code",
   "execution_count": 96,
   "metadata": {},
   "outputs": [],
   "source": [
    "# 💻 ESCRIBE TU CÓDIGO AQUÍ:\n",
    "\n"
   ]
  },
  {
   "cell_type": "markdown",
   "metadata": {},
   "source": [
    "---\n",
    "\n",
    "# 🔴 EJERCICIOS AVANZADOS (19-30) - 40%\n",
    "\n",
    "**Casos complejos y aplicaciones reales**"
   ]
  },
  {
   "cell_type": "markdown",
   "metadata": {},
   "source": [
    "## 📝 **EJERCICIO 19: SISTEMA DE CALIFICACIONES UNIVERSITARIO**\n",
    "\n",
    "**Nivel:** Avanzado | **Tipo:** Sistema completo | **Conceptos:** múltiples funciones, lógica compleja\n",
    "\n",
    "**Enunciado:**\n",
    "\n",
    "Desarrolla un sistema con estas funciones:\n",
    "\n",
    "1. **`calcular_nota_final(parcial1, parcial2, final, trabajos)`**  \n",
    "   Fórmula: (parcial1*0.25) + (parcial2*0.25) + (final*0.4) + (trabajos*0.1)\n",
    "\n",
    "2. **`obtener_letra_calificacion(nota_numerica)`**  \n",
    "   A: 90-100, B: 80-89, C: 70-79, D: 60-69, F: 0-59\n",
    "\n",
    "3. **`determinar_estado(letra)`**  \n",
    "   A,B,C: \"Aprobado\", D: \"Condicional\", F: \"Reprobado\"\n",
    "\n",
    "4. **`reporte_estudiante(nombre, parcial1, parcial2, final, trabajos)`**  \n",
    "   Que use todas las anteriores y retorne un reporte completo.\n",
    "\n",
    "Prueba con: Ana, 85, 78, 92, 88\n",
    "\n",
    "**🔑 Punto clave:** Los sistemas reales se construyen combinando múltiples funciones especializadas."
   ]
  },
  {
   "cell_type": "code",
   "execution_count": 97,
   "metadata": {},
   "outputs": [],
   "source": [
    "# 💻 ESCRIBE TU CÓDIGO AQUÍ:\n",
    "\n"
   ]
  },
  {
   "cell_type": "markdown",
   "metadata": {},
   "source": [
    "## 📝 **EJERCICIO 20: CONVERSOR DE UNIDADES AVANZADO**\n",
    "\n",
    "**Nivel:** Avanzado | **Tipo:** Múltiples conversiones | **Conceptos:** diccionarios, escalabilidad\n",
    "\n",
    "**Enunciado:**\n",
    "\n",
    "Crea un sistema de conversión con:\n",
    "\n",
    "1. **`convertir_temperatura(valor, desde, hacia)`**  \n",
    "   Soporta: celsius, fahrenheit, kelvin\n",
    "\n",
    "2. **`convertir_distancia(valor, desde, hacia)`**  \n",
    "   Soporta: metros, kilómetros, millas, pies\n",
    "\n",
    "3. **`convertir_peso(valor, desde, hacia)`**  \n",
    "   Soporta: gramos, kilogramos, libras, onzas\n",
    "\n",
    "4. **`conversor_universal(valor, tipo_magnitud, desde, hacia)`**  \n",
    "   Que use las tres anteriores según el tipo\n",
    "\n",
    "Cada función debe validar que las unidades sean válidas y retornar error si no.\n",
    "\n",
    "**🔑 Punto clave:** Los sistemas modulares permiten extensibilidad y mantenimiento fácil."
   ]
  },
  {
   "cell_type": "code",
   "execution_count": 98,
   "metadata": {},
   "outputs": [],
   "source": [
    "# 💻 ESCRIBE TU CÓDIGO AQUÍ:\n",
    "\n"
   ]
  },
  {
   "cell_type": "markdown",
   "metadata": {},
   "source": [
    "## 📝 **EJERCICIO 21: ANALIZADOR DE TEXTO AVANZADO**\n",
    "\n",
    "**Nivel:** Avanzado | **Tipo:** Procesamiento complejo | **Conceptos:** análisis estadístico, strings\n",
    "\n",
    "**Enunciado:**\n",
    "\n",
    "Desarrolla **`analisis_texto_completo(texto)`** que retorne:\n",
    "- Número total de caracteres (con y sin espacios)\n",
    "- Número de palabras\n",
    "- Número de oraciones (contar puntos, exclamaciones, interrogaciones)\n",
    "- Palabra más larga y su longitud\n",
    "- Palabra más frecuente y cuántas veces aparece\n",
    "- Porcentaje de caracteres que son letras\n",
    "- Nivel de legibilidad: \"Fácil\" (palabras promedio < 5 letras), \"Medio\" (5-7), \"Difícil\" (>7)\n",
    "\n",
    "Prueba con: \"¡Hola! ¿Cómo estás? Python es un lenguaje de programación extraordinario.\"\n",
    "\n",
    "**🔑 Punto clave:** El análisis de texto requiere múltiples métricas y cálculos estadísticos."
   ]
  },
  {
   "cell_type": "code",
   "execution_count": 99,
   "metadata": {},
   "outputs": [],
   "source": [
    "# 💻 ESCRIBE TU CÓDIGO AQUÍ:\n",
    "\n"
   ]
  },
  {
   "cell_type": "markdown",
   "metadata": {},
   "source": [
    "## 📝 **EJERCICIO 22: CALCULADORA FINANCIERA**\n",
    "\n",
    "**Nivel:** Avanzado | **Tipo:** Finanzas | **Conceptos:** fórmulas matemáticas, precisión\n",
    "\n",
    "**Enunciado:**\n",
    "\n",
    "Implementa estas funciones financieras:\n",
    "\n",
    "1. **`interes_simple(capital, tasa_anual, tiempo_años)`**\n",
    "2. **`interes_compuesto(capital, tasa_anual, tiempo_años, periodos_por_año=1)`**\n",
    "3. **`valor_futuro(pago_mensual, tasa_mensual, numero_pagos)`** - para anualidades\n",
    "4. **`cuota_prestamo(monto, tasa_anual, años)`** - cuota fija mensual\n",
    "5. **`analisis_inversion(capital_inicial, aporte_mensual, tasa_anual, años)`**  \n",
    "   Que combine todo y retorne valor final y ganancia total\n",
    "\n",
    "Prueba con: capital inicial $10,000, aportes $500/mes, 7% anual, 10 años\n",
    "\n",
    "**🔑 Punto clave:** Las aplicaciones financieras requieren precisión y fórmulas específicas."
   ]
  },
  {
   "cell_type": "code",
   "execution_count": 100,
   "metadata": {},
   "outputs": [],
   "source": [
    "# 💻 ESCRIBE TU CÓDIGO AQUÍ:\n",
    "\n"
   ]
  },
  {
   "cell_type": "markdown",
   "metadata": {},
   "source": [
    "## 📝 **EJERCICIO 23: VALIDADOR DE DATOS EMPRESARIAL**\n",
    "\n",
    "**Nivel:** Avanzado | **Tipo:** Validación compleja | **Conceptos:** patrones, validación empresarial\n",
    "\n",
    "**Enunciado:**\n",
    "\n",
    "Crea un sistema de validación con:\n",
    "\n",
    "1. **`validar_rut_chileno(rut)`** - formato xxxxxxxx-x con dígito verificador\n",
    "2. **`validar_telefono(numero, pais=\"chile\")`** - formatos por país\n",
    "3. **`validar_codigo_postal(codigo, pais=\"chile\")`**\n",
    "4. **`validar_tarjeta_credito(numero)`** - algoritmo de Luhn básico\n",
    "5. **`validador_completo(datos_dict)`** que valide un diccionario con:  \n",
    "   {\"rut\": \"12345678-9\", \"telefono\": \"+56912345678\", \"email\": \"user@domain.com\", \"postal\": \"1234567\"}\n",
    "\n",
    "Cada validador debe retornar True/False y opcionalmente un mensaje de error.\n",
    "\n",
    "**🔑 Punto clave:** La validación empresarial requiere reglas específicas y verificación de algoritmos."
   ]
  },
  {
   "cell_type": "code",
   "execution_count": 101,
   "metadata": {},
   "outputs": [],
   "source": [
    "# 💻 ESCRIBE TU CÓDIGO AQUÍ:\n",
    "\n"
   ]
  },
  {
   "cell_type": "markdown",
   "metadata": {},
   "source": [
    "## 📝 **EJERCICIO 24: SIMULADOR DE JUEGO DE CARTAS**\n",
    "\n",
    "**Nivel:** Avanzado | **Tipo:** Lógica de juegos | **Conceptos:** algoritmos, estados, lógica compleja\n",
    "\n",
    "**Enunciado:**\n",
    "\n",
    "Simula un juego de \"21\" (Blackjack) simplificado:\n",
    "\n",
    "1. **`valor_carta(carta)`** - A=1/11, J/Q/K=10, números=valor\n",
    "2. **`calcular_puntos_mano(mano)`** - suma optimizando ases\n",
    "3. **`determinar_ganador(puntos_jugador, puntos_casa)`**\n",
    "4. **`recomendar_accion(mano_jugador, carta_visible_casa)`**  \n",
    "   \"pedir\", \"plantarse\", \"doblar\" según estrategia básica\n",
    "5. **`simular_partida(cartas_jugador, cartas_casa)`**  \n",
    "   Que simule una partida completa\n",
    "\n",
    "Prueba con: Jugador [\"A\", \"5\"], Casa [\"K\", \"?\", \"3\"]\n",
    "\n",
    "**🔑 Punto clave:** Los juegos requieren lógica de estados y algoritmos de decisión."
   ]
  },
  {
   "cell_type": "code",
   "execution_count": 102,
   "metadata": {},
   "outputs": [],
   "source": [
    "# 💻 ESCRIBE TU CÓDIGO AQUÍ:\n",
    "\n"
   ]
  },
  {
   "cell_type": "markdown",
   "metadata": {},
   "source": [
    "## 📝 **EJERCICIO 25: GENERADOR DE REPORTES EMPRESARIALES**\n",
    "\n",
    "**Nivel:** Avanzado | **Tipo:** Reportes | **Conceptos:** formateo, cálculos complejos, presentación\n",
    "\n",
    "**Enunciado:**\n",
    "\n",
    "Sistema de reportes de ventas:\n",
    "\n",
    "1. **`calcular_comision(ventas, esquema=\"basico\")`**  \n",
    "   - básico: 3% de ventas\n",
    "   - escalonado: 2% primeros $10k, 4% siguiente $10k, 5% resto\n",
    "\n",
    "2. **`generar_reporte_vendedor(nombre, ventas_mensuales, meta_anual)`**  \n",
    "   Retorna reporte formateado con:\n",
    "   - Total vendido, promedio mensual, % de meta cumplida\n",
    "   - Proyección anual, comisiones ganadas\n",
    "   - Estado: \"Superando meta\", \"En objetivo\", \"Bajo meta\"\n",
    "\n",
    "3. **`reporte_equipo(vendedores_data)`**  \n",
    "   Consolida múltiples vendedores\n",
    "\n",
    "Prueba con 3 vendedores con diferentes niveles de ventas.\n",
    "\n",
    "**🔑 Punto clave:** Los reportes empresariales combinan cálculos, análisis y presentación."
   ]
  },
  {
   "cell_type": "code",
   "execution_count": 103,
   "metadata": {},
   "outputs": [],
   "source": [
    "# 💻 ESCRIBE TU CÓDIGO AQUÍ:\n",
    "\n"
   ]
  },
  {
   "cell_type": "markdown",
   "metadata": {},
   "source": [
    "## 📝 **EJERCICIO 26: ALGORITMO DE RECOMENDACIÓN SIMPLE**\n",
    "\n",
    "**Nivel:** Avanzado | **Tipo:** Algoritmos | **Conceptos:** similaridad, scoring, algoritmos\n",
    "\n",
    "**Enunciado:**\n",
    "\n",
    "Sistema de recomendación de productos:\n",
    "\n",
    "1. **`calcular_similaridad(perfil1, perfil2)`**  \n",
    "   Compara perfiles basados en categorías: [\"electrónicos\", \"ropa\", \"hogar\", \"libros\", \"deportes\"]  \n",
    "   Cada perfil es lista de puntuaciones 0-10\n",
    "\n",
    "2. **`recomendar_productos(usuario_actual, base_usuarios, productos_disponibles)`**  \n",
    "   Encuentra usuarios similares y recomienda productos que les gustaron\n",
    "\n",
    "3. **`score_recomendacion(producto, usuarios_similares)`**  \n",
    "   Calcula score de recomendación basado en similaridad\n",
    "\n",
    "Incluye datos de prueba con 5 usuarios y 10 productos.\n",
    "\n",
    "**🔑 Punto clave:** Los algoritmos de recomendación procesan patrones y calculan similaridades."
   ]
  },
  {
   "cell_type": "code",
   "execution_count": 104,
   "metadata": {},
   "outputs": [],
   "source": [
    "# 💻 ESCRIBE TU CÓDIGO AQUÍ:\n",
    "\n"
   ]
  },
  {
   "cell_type": "markdown",
   "metadata": {},
   "source": [
    "## 📝 **EJERCICIO 27: SISTEMA DE INVENTARIO INTELIGENTE**\n",
    "\n",
    "**Nivel:** Avanzado | **Tipo:** Gestión de datos | **Conceptos:** control de stock, alertas, cálculos\n",
    "\n",
    "**Enunciado:**\n",
    "\n",
    "Sistema completo de inventario:\n",
    "\n",
    "1. **`calcular_punto_reorden(demanda_promedio, tiempo_entrega, stock_seguridad)`**\n",
    "2. **`valorizar_inventario(productos_dict)`** - valor total del inventario\n",
    "3. **`generar_alertas(inventario_actual)`**  \n",
    "   - \"Stock crítico\", \"Reordenar\", \"Exceso de stock\"\n",
    "4. **`optimizar_compra(producto, demanda_proyectada, costo_almacenamiento)`**  \n",
    "   Sugiere cantidad óptima considerando costos\n",
    "5. **`reporte_inventario_completo(inventario, ventas_historicas)`**  \n",
    "   Dashboard completo del estado del inventario\n",
    "\n",
    "Simula con 8 productos diferentes con diversos estados de stock.\n",
    "\n",
    "**🔑 Punto clave:** Los sistemas de inventario balancean múltiples variables y costos."
   ]
  },
  {
   "cell_type": "code",
   "execution_count": 105,
   "metadata": {},
   "outputs": [],
   "source": [
    "# 💻 ESCRIBE TU CÓDIGO AQUÍ:\n",
    "\n"
   ]
  },
  {
   "cell_type": "markdown",
   "metadata": {},
   "source": [
    "## 📝 **EJERCICIO 28: ANALIZADOR DE RENDIMIENTO WEB**\n",
    "\n",
    "**Nivel:** Avanzado | **Tipo:** Métricas | **Conceptos:** análisis de performance, estadísticas\n",
    "\n",
    "**Enunciado:**\n",
    "\n",
    "Simula análisis de rendimiento web:\n",
    "\n",
    "1. **`analizar_tiempo_carga(tiempos_respuesta)`**  \n",
    "   Calcula: promedio, mediana, percentil 95, mínimo, máximo\n",
    "\n",
    "2. **`clasificar_performance(tiempo_promedio)`**  \n",
    "   \"Excelente\" (<200ms), \"Bueno\" (200-500ms), \"Regular\" (500ms-1s), \"Lento\" (>1s)\n",
    "\n",
    "3. **`detectar_anomalias(tiempos, umbral_desviacion=2)`**  \n",
    "   Identifica tiempos inusualmente altos\n",
    "\n",
    "4. **`generar_reporte_performance(datos_semana)`**  \n",
    "   Analiza tendencias: mejorando, estable, empeorando\n",
    "\n",
    "5. **`recomendar_optimizaciones(analisis_actual)`**  \n",
    "   Basado en métricas, sugiere acciones\n",
    "\n",
    "Simula con datos de una semana de tiempos de respuesta.\n",
    "\n",
    "**🔑 Punto clave:** El análisis de performance requiere estadísticas y detección de patrones."
   ]
  },
  {
   "cell_type": "code",
   "execution_count": 106,
   "metadata": {},
   "outputs": [],
   "source": [
    "# 💻 ESCRIBE TU CÓDIGO AQUÍ:\n",
    "\n"
   ]
  },
  {
   "cell_type": "markdown",
   "metadata": {},
   "source": [
    "## 📝 **EJERCICIO 29: CALCULADORA DE CARBON FOOTPRINT**\n",
    "\n",
    "**Nivel:** Avanzado | **Tipo:** Sostenibilidad | **Conceptos:** factores de conversión, impacto ambiental\n",
    "\n",
    "**Enunciado:**\n",
    "\n",
    "Calculadora de huella de carbono personal:\n",
    "\n",
    "1. **`calcular_emisiones_transporte(km_auto, km_avion, km_transporte_publico)`**  \n",
    "   Factores: auto=0.2kg CO2/km, avión=0.3kg CO2/km, público=0.05kg CO2/km\n",
    "\n",
    "2. **`calcular_emisiones_energia(kwh_electricidad, kwh_gas, pais=\"chile\")`**  \n",
    "   Factores varían por país\n",
    "\n",
    "3. **`calcular_emisiones_alimentacion(tipo_dieta, porciones_carne_semanal)`**  \n",
    "   Omnívoro, vegetariano, vegano con diferentes factores\n",
    "\n",
    "4. **`generar_reporte_sostenibilidad(datos_anuales)`**  \n",
    "   Compara con promedio nacional y mundial\n",
    "\n",
    "5. **`sugerir_mejoras(huella_actual)`**  \n",
    "   Recomienda acciones específicas para reducir emisiones\n",
    "\n",
    "**🔑 Punto clave:** Los cálculos ambientales requieren múltiples factores y análisis comparativo."
   ]
  },
  {
   "cell_type": "code",
   "execution_count": 107,
   "metadata": {},
   "outputs": [],
   "source": [
    "# 💻 ESCRIBE TU CÓDIGO AQUÍ:\n",
    "\n"
   ]
  },
  {
   "cell_type": "markdown",
   "metadata": {},
   "source": [
    "## 📝 **EJERCICIO 30: PROYECTO INTEGRADOR - SISTEMA DE GESTIÓN ACADÉMICA**\n",
    "\n",
    "**Nivel:** Avanzado | **Tipo:** Sistema completo | **Conceptos:** integración total de conceptos\n",
    "\n",
    "**Enunciado:**\n",
    "\n",
    "Sistema completo que integre TODOS los conceptos del capítulo:\n",
    "\n",
    "**FUNCIONES PRINCIPALES:**\n",
    "1. **`registrar_estudiante(datos)`** - valida y registra\n",
    "2. **`calcular_promedio_ponderado(notas, creditos)`**\n",
    "3. **`determinar_beca(promedio, situacion_economica)`**\n",
    "4. **`generar_horario_optimo(materias_disponibles, restricciones)`**\n",
    "5. **`calcular_avance_carrera(materias_aprobadas, malla_curricular)`**\n",
    "6. **`predecir_graduacion(avance_actual, carga_semestral_promedio)`**\n",
    "7. **`generar_reporte_academico_completo(estudiante_id)`**\n",
    "\n",
    "**FUNCIONES DE APOYO:**\n",
    "- Validadores de datos académicos\n",
    "- Calculadoras de costos de matrícula\n",
    "- Analizadores de rendimiento académico\n",
    "- Generadores de reportes para padres/tutores\n",
    "\n",
    "**INTEGRACIÓN REQUERIDA:**\n",
    "- Parámetros por defecto para flexibilidad\n",
    "- Return múltiple para datos complejos\n",
    "- Funciones anidadas para modularidad\n",
    "- Validación exhaustiva de entradas\n",
    "- Manejo de casos especiales\n",
    "\n",
    "Crea un caso de prueba completo con 3 estudiantes diferentes.\n",
    "\n",
    "**🔑 Punto clave:** Los sistemas reales integran todos los conceptos en una solución cohesiva y escalable."
   ]
  },
  {
   "cell_type": "code",
   "execution_count": 108,
   "metadata": {},
   "outputs": [],
   "source": [
    "# 💻 ESCRIBE TU CÓDIGO AQUÍ:\n",
    "# Este es tu proyecto final - ¡demuestra todo lo que has aprendido!\n",
    "\n"
   ]
  },
  {
   "cell_type": "markdown",
   "metadata": {},
   "source": [
    "---\n",
    "\n",
    "# 🎯 SECUENCIA RECOMENDADA DE TRABAJO\n",
    "\n",
    "## **1. Fundamentos (Ejercicios 1-7):** \n",
    "Domina definición, llamada y return básico\n",
    "\n",
    "## **2. Parámetros y argumentos (Ejercicios 8-12):** \n",
    "Practica paso de datos\n",
    "\n",
    "## **3. Integración de conceptos (Ejercicios 13-17):** \n",
    "Combina con capítulos anteriores\n",
    "\n",
    "## **4. Conceptos avanzados (Ejercicios 18-22):** \n",
    "Funciones complejas y validación\n",
    "\n",
    "## **5. Proyectos integradores (Ejercicios 23-30):** \n",
    "Aplicaciones reales y sistemas completos\n",
    "\n",
    "---\n",
    "\n",
    "# 🏆 CRITERIOS DE EVALUACIÓN PARA DOMINIO EXPERTO\n",
    "\n",
    "## **FUNDAMENTOS SÓLIDOS (Ejercicios 1-6):**\n",
    "- ✅ Comprende perfectamente def vs invocación\n",
    "- ✅ Domina parámetros vs argumentos\n",
    "- ✅ Distingue funciones estériles vs productivas\n",
    "- ✅ Maneja return correctamente\n",
    "\n",
    "## **INTEGRACIÓN Y APLICACIÓN (Ejercicios 7-18):**\n",
    "- ✅ Combina funciones con condicionales fluidamente\n",
    "- ✅ Implementa validación robusta\n",
    "- ✅ Usa funciones anidadas efectivamente\n",
    "- ✅ Maneja scope de variables correctamente\n",
    "- ✅ Aplica parámetros por defecto apropiadamente\n",
    "\n",
    "## **MAESTRÍA Y SISTEMAS COMPLEJOS (Ejercicios 19-30):**\n",
    "- ✅ Diseña sistemas modulares y escalables\n",
    "- ✅ Implementa algoritmos complejos\n",
    "- ✅ Crea validaciones empresariales\n",
    "- ✅ Desarrolla lógica de negocio sofisticada\n",
    "- ✅ Integra múltiples conceptos cohesivamente\n",
    "\n",
    "---\n",
    "\n",
    "# 🌟 INDICADORES DE DOMINIO EXPERTO\n",
    "\n",
    "✅ **Código limpio y bien estructurado**  \n",
    "✅ **Funciones con responsabilidad única**  \n",
    "✅ **Manejo apropiado de errores**  \n",
    "✅ **Documentación clara de funciones**  \n",
    "✅ **Reutilización efectiva de código**  \n",
    "✅ **Diseño modular y escalable**  \n",
    "✅ **Aplicación de mejores prácticas**  \n",
    "\n",
    "---\n",
    "\n",
    "# 🚀 ¡ÉXITO EN TU CAMINO HACIA LA MAESTRÍA EN FUNCIONES PYTHON!\n",
    "\n",
    "**¡Has completado una formación integral y especializada en funciones Python!**\n",
    "\n",
    "Estos 30 ejercicios te han llevado desde los conceptos más básicos hasta aplicaciones empresariales complejas, preparándote para ser un **experto en funciones Python** con bases sólidas para tu carrera profesional."
   ]
  }
 ],
 "metadata": {
  "kernelspec": {
   "display_name": "Python 3",
   "language": "python",
   "name": "python3"
  },
  "language_info": {
   "codemirror_mode": {
    "name": "ipython",
    "version": 3
   },
   "file_extension": ".py",
   "mimetype": "text/x-python",
   "name": "python",
   "nbconvert_exporter": "python",
   "pygments_lexer": "ipython3",
   "version": "3.13.9"
  }
 },
 "nbformat": 4,
 "nbformat_minor": 4
}
