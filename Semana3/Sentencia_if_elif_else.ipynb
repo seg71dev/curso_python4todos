{
 "cells": [
  {
   "cell_type": "markdown",
   "metadata": {},
   "source": [
    "# Sentencia `if/elif/else`"
   ]
  },
  {
   "cell_type": "markdown",
   "metadata": {},
   "source": [
    "### 1. ¿Qué son las estructuras de control de flujo?"
   ]
  },
  {
   "cell_type": "markdown",
   "metadata": {},
   "source": [
    "Todo lo que hemos visto hasta ahora han sido elementos de Python que se ejecutan de manera secuencial y exactamente en el orden especificado.\n",
    "\n",
    "Sin embargo, con frecuencia un programa necesita cambiar el control del flujo de ejecución de las sentencias y realizar cosas como: saltarse algunas sentencias, ejecutar una serie de sentencias de forma repetitiva, o elegir entre conjuntos alternativos de sentencias a ejecutar.\n",
    "\n",
    "Aquí es donde entran en juego las estructuras de control. Una estructura de control nos permite modificar el flujo de ejecución de un programa."
   ]
  },
  {
   "cell_type": "markdown",
   "metadata": {},
   "source": [
    "### 2. ¿Qué es la sentencia `if`?"
   ]
  },
  {
   "cell_type": "markdown",
   "metadata": {},
   "source": [
    "La sentencia de control de flujo `if` es probablemente una de las estructuras más importantes de cualquier lenguaje de programación, incluido Python. \n",
    "\n",
    "**Esta estructura nos permite implementar sentencias condicionales dentro de nuestro programa.**\n",
    "\n",
    "La sintaxis utilizada para definir la sentencia `if` es la siguiente:\n",
    "```\n",
    "if <expresión>:\n",
    "    <sentencia(s)>\n",
    "```\n",
    "  \n",
    "`<expresión>` es una expresión evaluada en un contexto booleano. El resultado de evaluar esta expresión debe ser `True` o `False`\n",
    "\n",
    "`<sentencia(s)>` es el bloque de sentencias en Python que se ejecutará cuando el resultado de evaluar la expresión sea `True`, en caso contrario se omitirá."
   ]
  },
  {
   "cell_type": "code",
   "execution_count": 118,
   "metadata": {},
   "outputs": [],
   "source": [
    "num1 = 5\n",
    "num2 = 10"
   ]
  },
  {
   "cell_type": "code",
   "execution_count": 119,
   "metadata": {},
   "outputs": [
    {
     "data": {
      "text/plain": [
       "True"
      ]
     },
     "execution_count": 119,
     "metadata": {},
     "output_type": "execute_result"
    }
   ],
   "source": [
    "# Esto sería una expresión\n",
    "num1 < num2"
   ]
  },
  {
   "cell_type": "code",
   "execution_count": 120,
   "metadata": {},
   "outputs": [
    {
     "name": "stdout",
     "output_type": "stream",
     "text": [
      "Sentencia 1\n",
      "Sentencia 2\n",
      "Sentencia 3\n"
     ]
    }
   ],
   "source": [
    "if num1 < num2:\n",
    "    print(\"Sentencia 1\")\n",
    "    print(\"Sentencia 2\")\n",
    "    print(\"Sentencia 3\")"
   ]
  },
  {
   "cell_type": "code",
   "execution_count": 121,
   "metadata": {},
   "outputs": [],
   "source": [
    "num1 = 15"
   ]
  },
  {
   "cell_type": "code",
   "execution_count": 122,
   "metadata": {},
   "outputs": [],
   "source": [
    "if num1 < num2:\n",
    "    print(num1)\n",
    "    print(num2)\n",
    "    print(\"Sentencia 1\")\n",
    "    print(\"Sentencia 2\")\n",
    "    print(\"Sentencia 3\")\n",
    "#print(\"La anterioes no se ejecutan\")"
   ]
  },
  {
   "cell_type": "code",
   "execution_count": 123,
   "metadata": {},
   "outputs": [
    {
     "data": {
      "text/plain": [
       "False"
      ]
     },
     "execution_count": 123,
     "metadata": {},
     "output_type": "execute_result"
    }
   ],
   "source": [
    "num1 < num2"
   ]
  },
  {
   "cell_type": "markdown",
   "metadata": {},
   "source": [
    "<div style=\"background-color:#D9EEFF;color:black;padding:2%;\">\n",
    "IMPORTANTE: Recuerda que en Python todo el codigo que sea local a una estructura, por ejemplo una función o una estructura de control como `if`, debe esta \"identado\", es decir, respetar la sangría.\n",
    "</div>"
   ]
  },
  {
   "cell_type": "code",
   "execution_count": 124,
   "metadata": {},
   "outputs": [
    {
     "name": "stdout",
     "output_type": "stream",
     "text": [
      "Sentencia fuera del if\n"
     ]
    }
   ],
   "source": [
    "if num1 < num2:\n",
    "    print(\"Sentencia 1\")\n",
    "    print(\"Sentencia 2\")\n",
    "    print(\"Sentencia 3\")\n",
    "print(\"Sentencia fuera del if\")"
   ]
  },
  {
   "cell_type": "markdown",
   "metadata": {},
   "source": [
    "### 3. ¿Qué expresiones y operadores podemos utilizar con la sentencia `if`?"
   ]
  },
  {
   "cell_type": "markdown",
   "metadata": {},
   "source": [
    "Una de las cosas interesantes de esta sentencia de control de flujo es que podemos utilizar casi cualquier tipo de operador, tipo de dato y expresión siempre que el resultado sea un valor booleano (`True` o `False`)"
   ]
  },
  {
   "cell_type": "code",
   "execution_count": 125,
   "metadata": {},
   "outputs": [],
   "source": [
    "lista = [\"azul\", \"amarillo\", \"verde\"]"
   ]
  },
  {
   "cell_type": "code",
   "execution_count": 126,
   "metadata": {},
   "outputs": [
    {
     "name": "stdout",
     "output_type": "stream",
     "text": [
      "Sentencia 1 en if\n",
      "Sentencia 2 en if\n"
     ]
    }
   ],
   "source": [
    "if \"azul\" in lista:\n",
    "    print(\"Sentencia 1 en if\")\n",
    "    print(\"Sentencia 2 en if\")"
   ]
  },
  {
   "cell_type": "code",
   "execution_count": 127,
   "metadata": {},
   "outputs": [],
   "source": [
    "tupla = (1, 2, 3, 4)"
   ]
  },
  {
   "cell_type": "code",
   "execution_count": 128,
   "metadata": {},
   "outputs": [],
   "source": [
    "if 6 in tupla:\n",
    "    print(\"Sentencia 1 en if\")\n",
    "    print(\"Sentencia 2 en if\")"
   ]
  },
  {
   "cell_type": "code",
   "execution_count": 129,
   "metadata": {},
   "outputs": [
    {
     "name": "stdout",
     "output_type": "stream",
     "text": [
      "Sentencia 1 en if\n",
      "Sentencia 2 en if\n"
     ]
    }
   ],
   "source": [
    "if 2 in tupla:\n",
    "    print(\"Sentencia 1 en if\")\n",
    "    print(\"Sentencia 2 en if\")"
   ]
  },
  {
   "cell_type": "markdown",
   "metadata": {},
   "source": [
    "### 4. La cláusula `else`"
   ]
  },
  {
   "cell_type": "markdown",
   "metadata": {},
   "source": [
    "En agunas ocasiones nos encontraremos con casos de uso en los que querremos una estructura condicional que ejecute unas sentencias en Python si la expresión es `True` pero además, que ejecute otras sentencias diferentes si la expresión es `False`. Para este tipo de casos se utiliza la cláusula `else`.\n",
    "\n",
    "La sintaxis que debemos utilizar en Python 3 para definir la cláusula `else` dentro de una estructura `if` es la siguiente:\n",
    "\n",
    "```\n",
    "if <expresión>:\n",
    "    <sentencia(s)>\n",
    "else:\n",
    "    <sentencia(s)>\n",
    "```\n"
   ]
  },
  {
   "cell_type": "code",
   "execution_count": 130,
   "metadata": {},
   "outputs": [],
   "source": [
    "num1 = 5\n",
    "num2 = 10"
   ]
  },
  {
   "cell_type": "code",
   "execution_count": 131,
   "metadata": {},
   "outputs": [
    {
     "name": "stdout",
     "output_type": "stream",
     "text": [
      "Sentencias si True\n"
     ]
    }
   ],
   "source": [
    "if num1 < num2:\n",
    "    print(\"Sentencias si True\")\n",
    "else:\n",
    "    print(\"Sentencias si False\")"
   ]
  },
  {
   "cell_type": "code",
   "execution_count": 132,
   "metadata": {},
   "outputs": [
    {
     "name": "stdout",
     "output_type": "stream",
     "text": [
      "Sentencias si False\n"
     ]
    }
   ],
   "source": [
    "if num1 > num2:\n",
    "    print(\"Sentencias si True\")\n",
    "else:\n",
    "    print(\"Sentencias si False\")"
   ]
  },
  {
   "cell_type": "markdown",
   "metadata": {},
   "source": [
    "### 5. La cláusula `elif`"
   ]
  },
  {
   "cell_type": "markdown",
   "metadata": {},
   "source": [
    "Otros de los casos de uso que nos encontraremos con frecuencia es la implementación de una estructura condicional que requiera múltiples evaluaciones de varias expresiones para tomar la decisión de qué código ejecutar. Para estos casos específicos podemos utilizar la cláusula `elif`.\n",
    "\n",
    "La sintaxis que debemos utilizar en Python 3 para definir la cláusula `elif` dentro de una estructura `if` es la siguiente:\n",
    "\n",
    "```\n",
    "if <expresión>:\n",
    "    <sentencia(s)>\n",
    "elif <expresión>:\n",
    "    <sentencia(s)>\n",
    "elif <expresión>:\n",
    "    <sentencia(s)\n",
    "...\n",
    "else:\n",
    "    <sentencia(s)>\n",
    "\n",
    "```\n",
    "\n",
    "Una cosa importante que debemos tener en cuenta es que podemos utilizar tantas cláusulas `elif` como consideremos oportunas."
   ]
  },
  {
   "cell_type": "code",
   "execution_count": 133,
   "metadata": {},
   "outputs": [],
   "source": [
    "nombres = [\"Santiago\", \"Laura\", \"Julia\"]"
   ]
  },
  {
   "cell_type": "code",
   "execution_count": 134,
   "metadata": {},
   "outputs": [
    {
     "name": "stdout",
     "output_type": "stream",
     "text": [
      "Hola Laura\n"
     ]
    }
   ],
   "source": [
    "if \"Pedro\" in nombres:\n",
    "    print(\"Hola Pedro\")\n",
    "elif \"Laura\" in nombres:\n",
    "    print(\"Hola Laura\")\n",
    "elif \"Marta\" in nombres:\n",
    "    print(\"Hola Marta\")\n",
    "elif \"Santiago\" in nombres:\n",
    "    print(\"Hola Santiago\")\n",
    "else:\n",
    "    print(\"El nombre no esta en la lista\")"
   ]
  },
  {
   "cell_type": "code",
   "execution_count": 135,
   "metadata": {},
   "outputs": [],
   "source": [
    "nombres = [\"Laura\", \"Julia\"]"
   ]
  },
  {
   "cell_type": "code",
   "execution_count": 136,
   "metadata": {},
   "outputs": [
    {
     "name": "stdout",
     "output_type": "stream",
     "text": [
      "El nombre no esta en la lista\n"
     ]
    }
   ],
   "source": [
    "if \"Pedro\" in nombres:\n",
    "    print(\"Hola Pedro\")\n",
    "elif \"Juan\" in nombres:\n",
    "    print(\"Hola Juan\")\n",
    "elif \"Marta\" in nombres:\n",
    "    print(\"Hola Marta\")\n",
    "elif \"Santiago\" in nombres:\n",
    "    print(\"Hola Santiago\")\n",
    "else:\n",
    "    print(\"El nombre no esta en la lista\")"
   ]
  },
  {
   "cell_type": "markdown",
   "metadata": {},
   "source": [
    "### 6. Sentencia `if` en una sola línea"
   ]
  },
  {
   "cell_type": "markdown",
   "metadata": {},
   "source": [
    "Como curiosidad interesante, Python 3 nos permite utilizar una sintaxis específica para implementar sentencias `if` en una sola línea de código. Sin embargo, en general esta opción no es muy recomendable debido a que puede aumentar la complejidad en la lectura del código fuente."
   ]
  },
  {
   "cell_type": "code",
   "execution_count": 137,
   "metadata": {},
   "outputs": [
    {
     "name": "stdout",
     "output_type": "stream",
     "text": [
      "Sentencia 1\n",
      "Sentencia 2\n",
      "Sentencia 3\n"
     ]
    }
   ],
   "source": [
    "if 4 > 2: print(\"Sentencia 1\");print(\"Sentencia 2\");print(\"Sentencia 3\")"
   ]
  },
  {
   "cell_type": "code",
   "execution_count": 138,
   "metadata": {},
   "outputs": [
    {
     "name": "stdout",
     "output_type": "stream",
     "text": [
      "Sentencia 2\n"
     ]
    }
   ],
   "source": [
    "if 4 < 2: print(\"Sentencia 1\")\n",
    "else: print(\"Sentencia 2\")"
   ]
  },
  {
   "cell_type": "markdown",
   "metadata": {},
   "source": [
    "### 7. Operador condicional"
   ]
  },
  {
   "cell_type": "markdown",
   "metadata": {},
   "source": [
    "Por último, Python soporta una construcción más relacionada con la sentencia `if` que puede resultarnos muy interesante para determinados casos de uso. A esta construcción se le denomina operador condicional.\n",
    "\n",
    "La sintaxis que se utiliza para implementar el operador condicional en Python3 es la siguiente:\n",
    "```\n",
    "<expresión1> if <expresión_condicional> else <expresión2>\n",
    "```\n",
    "- Se ejecuta la expresion 1 si se cumple la expersion condicional\n",
    "- si no se cumple se ejecuta la experesion 2\n",
    "- Este operador nos permite simplificar el código que utilizamos para determinadas tareas como, por ejemplo, asignarle un valor a una variable en función de una condición.\n",
    "- Util para volver asignar una variable"
   ]
  },
  {
   "cell_type": "code",
   "execution_count": 139,
   "metadata": {},
   "outputs": [],
   "source": [
    "x = 1\n",
    "y = 3"
   ]
  },
  {
   "cell_type": "code",
   "execution_count": 140,
   "metadata": {},
   "outputs": [
    {
     "name": "stdout",
     "output_type": "stream",
     "text": [
      "Expersion2\n"
     ]
    }
   ],
   "source": [
    "print(\"Expresion 1\") if x > y else print(\"Expersion2\")"
   ]
  },
  {
   "cell_type": "code",
   "execution_count": 141,
   "metadata": {},
   "outputs": [],
   "source": [
    "nombre = \"Pedro\""
   ]
  },
  {
   "cell_type": "code",
   "execution_count": 142,
   "metadata": {},
   "outputs": [],
   "source": [
    "edad = 30 if nombre != \"Pedro\" else 15"
   ]
  },
  {
   "cell_type": "code",
   "execution_count": 143,
   "metadata": {},
   "outputs": [
    {
     "data": {
      "text/plain": [
       "15"
      ]
     },
     "execution_count": 143,
     "metadata": {},
     "output_type": "execute_result"
    }
   ],
   "source": [
    "edad"
   ]
  },
  {
   "cell_type": "code",
   "execution_count": 146,
   "metadata": {},
   "outputs": [],
   "source": [
    "edad = 30 if nombre == \"Pedro\" else 15"
   ]
  },
  {
   "cell_type": "code",
   "execution_count": 147,
   "metadata": {},
   "outputs": [
    {
     "data": {
      "text/plain": [
       "30"
      ]
     },
     "execution_count": 147,
     "metadata": {},
     "output_type": "execute_result"
    }
   ],
   "source": [
    "edad"
   ]
  },
  {
   "cell_type": "code",
   "execution_count": 144,
   "metadata": {},
   "outputs": [],
   "source": [
    "tiempo=\"lluvia\""
   ]
  },
  {
   "cell_type": "code",
   "execution_count": 145,
   "metadata": {},
   "outputs": [
    {
     "name": "stdout",
     "output_type": "stream",
     "text": [
      "Vamos al cine\n"
     ]
    }
   ],
   "source": [
    "print(\"Vamos\", \"a la piscina\" if tiempo==\"sol\" else \"al cine\")"
   ]
  }
 ],
 "metadata": {
  "kernelspec": {
   "display_name": "Python 3",
   "language": "python",
   "name": "python3"
  },
  "language_info": {
   "codemirror_mode": {
    "name": "ipython",
    "version": 3
   },
   "file_extension": ".py",
   "mimetype": "text/x-python",
   "name": "python",
   "nbconvert_exporter": "python",
   "pygments_lexer": "ipython3",
   "version": "3.13.9"
  }
 },
 "nbformat": 4,
 "nbformat_minor": 4
}
