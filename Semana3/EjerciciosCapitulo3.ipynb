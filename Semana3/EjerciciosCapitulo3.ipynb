{
 "cells": [
  {
   "cell_type": "markdown",
   "id": "4d2b7859",
   "metadata": {},
   "source": [
    "# EjerciciosCapítulo3 — Ejecución condicional (25 ejercicios)\n",
    "**Capítulo 3 del libro \"Python para Todos\"**  \n",
    "Este cuaderno contiene 25 ejercicios centrados exclusivamente en **estructuras condicionales** (`if`, `elif`, `else`, `try/except`), sin incluir bucles.\n",
    "\n",
    "Cada ejercicio está en una celda Markdown independiente seguida de una celda de código vacía para resolverlo.\n"
   ]
  },
  {
   "cell_type": "markdown",
   "id": "633fd72d",
   "metadata": {},
   "source": [
    "### Ejercicio 1\n",
    "1. Signo del número: Determina si un número es positivo, negativo o cero."
   ]
  },
  {
   "cell_type": "code",
   "execution_count": null,
   "id": "80080ec7",
   "metadata": {},
   "outputs": [],
   "source": [
    "# tu código aquí\n",
    "try:\n",
    "    numero = int(input(\"Dame un número y te dire si es positivo, negativo o cero: \" ))\n",
    "\n",
    "    if numero < 0:\n",
    "        print(\"1 El numero es negativo\")\n",
    "    elif numero  > 0:\n",
    "        print(\"2 El numero es positivo\")\n",
    "    else:\n",
    "        print(\"3 El numero es cero\")\n",
    "except:\n",
    "    print(\"Introduce un numero\")\n"
   ]
  },
  {
   "cell_type": "markdown",
   "id": "d41cc944",
   "metadata": {},
   "source": [
    "### Ejercicio 2\n",
    "2. Operadores de comparación: Pide dos enteros y muestra resultados de comparaciones."
   ]
  },
  {
   "cell_type": "code",
   "execution_count": null,
   "id": "fac6bc3a",
   "metadata": {},
   "outputs": [],
   "source": [
    "# tu código aquí\n",
    "\n",
    "try:\n",
    "    num_ent1 = int(input(\"Dame un número entero: \"))\n",
    "    num_ent2 = int(input(\"Dame un número entero: \"))\n",
    "    print(\"Vamos a mostrar todos los operadores de comparacion con los número queme has dado.\")\n",
    "    print(\" \\n\") \n",
    "    \n",
    "    # Operadores de Comparación\n",
    "    if num_ent1 == num_ent2:\n",
    "        print(f\"operador '== igual a' {num_ent1} == {num_ent2} es {num_ent1 == num_ent2} \") \n",
    "    elif num_ent1 <= num_ent2:\n",
    "        print(f\"operador '<= Menor igual que ' {num_ent1} < {num_ent2} es {num_ent1 < num_ent2} \")\n",
    "    else:\n",
    "         print(f\"operador '> Mayor que ' {num_ent1} > {num_ent2} es {num_ent1 > num_ent2} \")\n",
    "except:\n",
    "    print(\"Introdudce un número entero\")"
   ]
  },
  {
   "cell_type": "markdown",
   "id": "f550affe",
   "metadata": {},
   "source": [
    "### Ejercicio 3\n",
    "3. Clasificador de signo (variante): Igual que el anterior pero con menos condiciones."
   ]
  },
  {
   "cell_type": "code",
   "execution_count": null,
   "id": "656aebc9",
   "metadata": {},
   "outputs": [],
   "source": [
    "# tu código aquí"
   ]
  },
  {
   "cell_type": "markdown",
   "id": "a5628e52",
   "metadata": {},
   "source": [
    "### Ejercicio 4\n",
    "4. Máximo de tres: Determina el mayor de tres números sin usar max()."
   ]
  },
  {
   "cell_type": "code",
   "execution_count": null,
   "id": "fc1419ce",
   "metadata": {},
   "outputs": [],
   "source": [
    "# tu código aquí\n",
    "\n",
    "try:\n",
    "    num_ent1 = int(input(\"Dame un número entero: \"))\n",
    "    num_ent2 = int(input(\"Dame un número entero: \"))\n",
    "    num_ent3 = int(input(\"Dame un número entero: \"))\n",
    "\n",
    "    if num_ent1 > num_ent2:\n",
    "        if num_ent1 > num_ent3:\n",
    "            print(f\"1. {num_ent1} es el mayor que {num_ent2} y {num_ent3}\")\n",
    "        else:\n",
    "             print(f\"4. {num_ent3} es el mayor que {num_ent1} y {num_ent2}\")\n",
    "    elif num_ent2 > num_ent3:\n",
    "        print(f\"2. {num_ent2} es el mayor que {num_ent1} y {num_ent3}\")\n",
    "    elif num_ent1 == num_ent2 and num_ent2 == num_ent3:\n",
    "        print(\"Los tres son iguales\")\n",
    "    else:\n",
    "        print(f\"3. {num_ent3} es el mayor que {num_ent1} y {num_ent2}\")\n",
    "\n",
    "except:\n",
    "    print(\"Introdudce un número entero\")"
   ]
  },
  {
   "cell_type": "markdown",
   "id": "4c451420",
   "metadata": {},
   "source": [
    "### Ejercicio 5\n",
    "5. Estación del año: Muestra la estación según el mes (1–12)."
   ]
  },
  {
   "cell_type": "code",
   "execution_count": null,
   "id": "79992dfe",
   "metadata": {},
   "outputs": [],
   "source": [
    "# tu código aquí\n",
    "''' Hemisferio norte\n",
    "Primavera: marzo, abril y mayo\n",
    "Verano: junio, julio y agosto\n",
    "Otoño: septiembre, octubre y noviembre\n",
    "Invierno: diciembre, enero y febrero \n",
    "\n",
    "Hemisferio sur\n",
    "Primavera: septiembre, octubre y noviembre\n",
    "Verano: diciembre, enero y febrero\n",
    "Otoño: marzo, abril y mayo\n",
    "Invierno: junio, julio y agosto '''\n",
    "\n",
    "try:\n",
    "    hemisferio = int(input(\"Introduce 1 si estas en el hemisferio norte, y 2 si estas hemisferio sur: \"))\n",
    "\n",
    "    if hemisferio >=1 and hemisferio <= 2:\n",
    "        if hemisferio == 1:\n",
    "            mes = int(input(\"Introduce un el número del mes y te dire que estacios es: \"))\n",
    "            if mes == 12 or mes == 1 or mes == 2:\n",
    "                print(\"1. Estas en Invierno. En el hemisferio norte.\")\n",
    "            elif mes == 3 or mes == 4 or mes == 5:\n",
    "                print(\"1. Estas en Primavera. En el hemisferio norte.\")\n",
    "            elif mes == 6 or mes == 7 or mes == 8:\n",
    "                print(\"1. Estas en Verano. En el hemisferio norte.\")\n",
    "            elif mes == 9 or mes == 10 or mes == 11:\n",
    "                print(\"1. Estas en Otoño. En el hemisferio norte.\")\n",
    "            else:\n",
    "                print(\"1. Has introducido mal el mes.\")\n",
    "        elif hemisferio == 2:\n",
    "            mes = int(input(\"Introduce un el número del mes y te dire que estacios es: \"))\n",
    "            if mes == 12 or mes == 1 or mes == 2:\n",
    "                print(\"2. Estas en Verano. En el hemisferio sur.\")\n",
    "            elif mes == 3 or mes == 4 or mes == 5:\n",
    "                print(\"2. Estas en Otoño.En el hemisferio sur.\")\n",
    "            elif mes == 6 or mes == 7 or mes == 8:\n",
    "                print(\"2. Estas en Invierno.En el hemisferio sur.\")\n",
    "            elif mes == 9 or mes == 10 or mes == 11:\n",
    "                print(\"1. Estas en Primavera.En el hemisferio sur.\")\n",
    "            else:\n",
    "                print(\"2. Has introducido mal el mes.\")\n",
    "    else:\n",
    "        print(\"Has introducido mal es o 1 o 2. intentalo de nuevo.\")\n",
    "except:\n",
    "    print(\"Introduce un número entero del 1 al 12\")"
   ]
  },
  {
   "cell_type": "markdown",
   "id": "d6088f6d",
   "metadata": {},
   "source": [
    "### Ejercicio 6\n",
    "6. Traza mental: Predice la salida del código dado antes de ejecutarlo."
   ]
  },
  {
   "cell_type": "code",
   "execution_count": null,
   "id": "88aa92aa",
   "metadata": {},
   "outputs": [],
   "source": [
    "# tu código aquí\n"
   ]
  },
  {
   "cell_type": "markdown",
   "id": "ec07b8d3",
   "metadata": {},
   "source": [
    "### Ejercicio 7\n",
    "7. Conversión segura: Convierte una cadena a entero con if y validación."
   ]
  },
  {
   "cell_type": "code",
   "execution_count": null,
   "id": "0e25006f",
   "metadata": {},
   "outputs": [],
   "source": [
    "# tu código aquí\n",
    "\n",
    "val_str = \"123456a#\"\n",
    "try:\n",
    "    if val_str.isdigit():\n",
    "        val_int = int(val_str)\n",
    "        print(\"Esta cadema la podemos pasara numero entero.\")\n",
    "    else:\n",
    "        print(\"Esta cadena contiene caracteres distintos a numeros.\")\n",
    "except ValueError:\n",
    "        print(\"Ha habido un problema en la conversión.\")\n"
   ]
  },
  {
   "cell_type": "markdown",
   "id": "25c57747",
   "metadata": {},
   "source": [
    "### Ejercicio 8\n",
    "8. Salario con horas extra: Calcula salario con 1.5× si >40h."
   ]
  },
  {
   "cell_type": "code",
   "execution_count": 34,
   "id": "ec774749",
   "metadata": {},
   "outputs": [
    {
     "name": "stdout",
     "output_type": "stream",
     "text": [
      "Tu salrio con 152 horas trabajadas es 2080.0€.\n"
     ]
    }
   ],
   "source": [
    "# tu código aquí\n",
    "\n",
    "# horas normales y numero de horas extra\n",
    "hrs = 40\n",
    "pre_hr = 10 # precio hora normal\n",
    "pre_ext = 1.5 # cantidad extra por hora\n",
    "\n",
    "try:\n",
    "    hrs_extra = int(input(\"Introduce las horas extra que has trabajado: \"))\n",
    "    hrs_total = hrs + hrs_extra\n",
    "\n",
    "    if hrs_extra > 0:\n",
    "        salario = (hrs * 10) + (hrs_extra * 10 * 1.5)\n",
    "        print(f\"Tu salrio con {hrs + hrs_extra} horas trabajadas es {salario}€.\")\n",
    "    elif hrs_extra == 0:\n",
    "        salario = hrs * 10\n",
    "        print(f\"Tu salrio con {hrs} horas trabajadas es {salario}€.\")\n",
    "    else:\n",
    "         print(f\"1. Has introducido un valor no valido.\")\n",
    "except ValueError:\n",
    "    print(\"Has introducido un valor no valido.\")\n",
    "\n"
   ]
  },
  {
   "cell_type": "markdown",
   "id": "6d6a4021",
   "metadata": {},
   "source": [
    "### Ejercicio 9\n",
    "9. Etapas de vida: Clasifica la edad en niño, adolescente, adulto o mayor."
   ]
  },
  {
   "cell_type": "code",
   "execution_count": null,
   "id": "3702c620",
   "metadata": {},
   "outputs": [],
   "source": [
    "# tu código aquí\n"
   ]
  },
  {
   "cell_type": "markdown",
   "id": "d7ce327b",
   "metadata": {},
   "source": [
    "### Ejercicio 10\n",
    "10. Puntuación 0.0–1.0: Muestra calificación A–F según la nota."
   ]
  },
  {
   "cell_type": "code",
   "execution_count": 51,
   "id": "62be8de6",
   "metadata": {},
   "outputs": [
    {
     "name": "stdout",
     "output_type": "stream",
     "text": [
      "Has introducido un valor no valido.\n"
     ]
    }
   ],
   "source": [
    "# tu código aquí\n",
    "\n",
    "try:\n",
    "    nota = float(input(\"Entroduce tu nota.\"))\n",
    "    if nota >= 0.0 and nota <= 1.0:\n",
    "        if nota == 1.0:\n",
    "            print(\"Tienes una nota de A\")\n",
    "        elif nota <= 1.0 and nota >= 0.7:\n",
    "            print(\"Tienes una nota de B\")\n",
    "        elif nota < 0.7 and nota >= 0.6:\n",
    "            print(\"Tienes una nota de C\")\n",
    "        elif nota >= 0.5:\n",
    "            print(\"Tienes una nota de K\")\n",
    "        else:\n",
    "            print(\"Suspendido\")\n",
    "    else:\n",
    "         print(\"1. Has introducido un valor no valido.\")\n",
    "except ValueError:\n",
    "    print(\"Has introducido un valor no valido.\")\n"
   ]
  },
  {
   "cell_type": "markdown",
   "id": "effd6b45",
   "metadata": {},
   "source": [
    "### Ejercicio 11\n",
    "11. Paridad y múltiplos: Determina si un número es par/impar y múltiplo de 4."
   ]
  },
  {
   "cell_type": "code",
   "execution_count": 54,
   "id": "cdd488b5",
   "metadata": {},
   "outputs": [
    {
     "name": "stdout",
     "output_type": "stream",
     "text": [
      "El numero es impar.\n"
     ]
    }
   ],
   "source": [
    "# tu código aquí\n",
    "# usaremos el modulo si %2 es 0 par si es distrinto impar y si %4 = 0 multiplo de 4\n",
    "try:\n",
    "    numero = float(input(\"Dame un número y te dire si es par, impar o multiplo de 4\"))\n",
    "    if numero % 2 == 0:\n",
    "        if numero % 4 == 0:\n",
    "            print(\"El numero es par y multiplo de 4\")\n",
    "        else:\n",
    "            print(\"El numero es par.\")\n",
    "    else:\n",
    "        print(\"El numero es impar.\")\n",
    "except ValueError:\n",
    "    print(\"Has introducido un valor no valido.\")\n",
    "\n"
   ]
  },
  {
   "cell_type": "markdown",
   "id": "f437f5a0",
   "metadata": {},
   "source": [
    "### Ejercicio 12\n",
    "12. Triángulo válido: Comprueba si tres lados forman un triángulo y clasifica."
   ]
  },
  {
   "cell_type": "code",
   "execution_count": null,
   "id": "e218ac89",
   "metadata": {},
   "outputs": [
    {
     "name": "stdout",
     "output_type": "stream",
     "text": [
      "NO Es medio un triangulo :-)\n"
     ]
    }
   ],
   "source": [
    "# tu código aquí\n",
    "try:\n",
    "    # el usario introduce las longitudes de los tres lados.\n",
    "    lado1 = float(input(\"Introduce la longitud del primer lado: \"))\n",
    "    lado2 = float(input(\"Introduce la longitud del segundo lado: \"))\n",
    "    lado3 = float(input(\"Introduce la longitud del tercer lado: \"))\n",
    "except ValueError:\n",
    "    print(\"Has introducido un valor no valido.\")\n",
    "else:\n",
    "    if (lado1 < 0 and lado2 < 0 and lado3 < 0) or (lado1 == 0 and lado2 == 0 and lado3 == 0):\n",
    "        print(\"no puede haber numero negativos o O\")\n",
    "    else:\n",
    "        mayor = lado1\n",
    "        if lado2 > mayor:\n",
    "            mayor = lado2\n",
    "        elif lado3 > mayor:\n",
    "            mayor = lado3\n",
    "       \n",
    "suma_resto = (lado1 + lado2 + lado3) - mayor\n",
    "if mayor < suma_resto:\n",
    "    print(\"Es un triangulo\")\n",
    "elif mayor == suma_resto:\n",
    "    print(\"Es medio un triangulo :-)\")\n",
    "else:\n",
    "    print(\"NO Es medio un triangulo :-)\")"
   ]
  },
  {
   "cell_type": "markdown",
   "id": "c8a4e9ce",
   "metadata": {},
   "source": [
    "### Ejercicio 13\n",
    "13. Año bisiesto: Determina si un año es bisiesto."
   ]
  },
  {
   "cell_type": "code",
   "execution_count": null,
   "id": "28392681",
   "metadata": {},
   "outputs": [],
   "source": [
    "# tu código aquí\n"
   ]
  },
  {
   "cell_type": "markdown",
   "id": "53ec0b7c",
   "metadata": {},
   "source": [
    "### Ejercicio 14\n",
    "14. Comparación de cadenas: Compara dos palabras ignorando mayúsculas."
   ]
  },
  {
   "cell_type": "code",
   "execution_count": null,
   "id": "db98a011",
   "metadata": {},
   "outputs": [],
   "source": [
    "# tu código aquí\n"
   ]
  },
  {
   "cell_type": "markdown",
   "id": "6de22011",
   "metadata": {},
   "source": [
    "### Ejercicio 15\n",
    "15. Clasificador de nota: Usa and/or para definir rangos 0–100."
   ]
  },
  {
   "cell_type": "code",
   "execution_count": null,
   "id": "6389f952",
   "metadata": {},
   "outputs": [],
   "source": [
    "# tu código aquí\n"
   ]
  },
  {
   "cell_type": "markdown",
   "id": "be80e585",
   "metadata": {},
   "source": [
    "### Ejercicio 16\n",
    "16. Menú de opciones: Simula un menú (1–4) con distintas salidas."
   ]
  },
  {
   "cell_type": "code",
   "execution_count": null,
   "id": "9ef8e91a",
   "metadata": {},
   "outputs": [],
   "source": [
    "# tu código aquí\n"
   ]
  },
  {
   "cell_type": "markdown",
   "id": "f4abf9e6",
   "metadata": {},
   "source": [
    "### Ejercicio 17\n",
    "17. Descuento anidado: Aplica descuentos según importe y cliente VIP."
   ]
  },
  {
   "cell_type": "code",
   "execution_count": null,
   "id": "300614d5",
   "metadata": {},
   "outputs": [],
   "source": [
    "# tu código aquí\n"
   ]
  },
  {
   "cell_type": "markdown",
   "id": "6c602bb1",
   "metadata": {},
   "source": [
    "### Ejercicio 18\n",
    "18. Conversión robusta: Usa try/except para validar entero."
   ]
  },
  {
   "cell_type": "code",
   "execution_count": null,
   "id": "6757a948",
   "metadata": {},
   "outputs": [],
   "source": [
    "# tu código aquí\n"
   ]
  },
  {
   "cell_type": "markdown",
   "id": "ec8e7e9d",
   "metadata": {},
   "source": [
    "### Ejercicio 19\n",
    "19. División segura: Controla errores numéricos y división por cero."
   ]
  },
  {
   "cell_type": "code",
   "execution_count": null,
   "id": "3199400c",
   "metadata": {},
   "outputs": [],
   "source": [
    "# tu código aquí\n"
   ]
  },
  {
   "cell_type": "markdown",
   "id": "ec70acc0",
   "metadata": {},
   "source": [
    "### Ejercicio 20\n",
    "20. Sumador interactivo: Suma números hasta escribir 'fin' (usa condicional, no bucle)."
   ]
  },
  {
   "cell_type": "code",
   "execution_count": null,
   "id": "2548ac31",
   "metadata": {},
   "outputs": [],
   "source": [
    "# tu código aquí\n"
   ]
  },
  {
   "cell_type": "markdown",
   "id": "c9b3b526",
   "metadata": {},
   "source": [
    "### Ejercicio 21\n",
    "21. Calculadora simple: Pide operador y realiza operación con validación."
   ]
  },
  {
   "cell_type": "code",
   "execution_count": null,
   "id": "211ac043",
   "metadata": {},
   "outputs": [],
   "source": [
    "# tu código aquí\n"
   ]
  },
  {
   "cell_type": "markdown",
   "id": "15361fa4",
   "metadata": {},
   "source": [
    "### Ejercicio 22\n",
    "22. Nota robusta: Repite ejercicio 10 con manejo de errores."
   ]
  },
  {
   "cell_type": "code",
   "execution_count": null,
   "id": "1d7f39ce",
   "metadata": {},
   "outputs": [],
   "source": [
    "# tu código aquí\n"
   ]
  },
  {
   "cell_type": "markdown",
   "id": "0369b0b7",
   "metadata": {},
   "source": [
    "### Ejercicio 23\n",
    "23. Nómina completa: Usa try/except y condiciones para salario."
   ]
  },
  {
   "cell_type": "code",
   "execution_count": null,
   "id": "9f3471be",
   "metadata": {},
   "outputs": [],
   "source": [
    "# tu código aquí\n"
   ]
  },
  {
   "cell_type": "markdown",
   "id": "213678e9",
   "metadata": {},
   "source": [
    "### Ejercicio 24\n",
    "24. Piedra, papel o tijera: Simula el juego contra la máquina (sin bucles)."
   ]
  },
  {
   "cell_type": "code",
   "execution_count": null,
   "id": "ff91da9f",
   "metadata": {},
   "outputs": [],
   "source": [
    "# tu código aquí\n"
   ]
  },
  {
   "cell_type": "markdown",
   "id": "cd346e29",
   "metadata": {},
   "source": [
    "### Ejercicio 25\n",
    "25. Clasificador IMC: Calcula y clasifica el índice de masa corporal."
   ]
  },
  {
   "cell_type": "code",
   "execution_count": null,
   "id": "7a4207f2",
   "metadata": {},
   "outputs": [],
   "source": [
    "# tu código aquí\n"
   ]
  }
 ],
 "metadata": {
  "kernelspec": {
   "display_name": "cursopy4e",
   "language": "python",
   "name": "python3"
  },
  "language_info": {
   "codemirror_mode": {
    "name": "ipython",
    "version": 3
   },
   "file_extension": ".py",
   "mimetype": "text/x-python",
   "name": "python",
   "nbconvert_exporter": "python",
   "pygments_lexer": "ipython3",
   "version": "3.13.9"
  }
 },
 "nbformat": 4,
 "nbformat_minor": 5
}
