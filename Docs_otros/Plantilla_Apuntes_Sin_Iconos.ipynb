{
 "cells": [
  {
   "cell_type": "markdown",
   "id": "2e2c8eca",
   "metadata": {},
   "source": [
    "# Plantilla de Apuntes y Ejercicios\n",
    "\n",
    "Usa este Notebook para tomar apuntes, probar código y resolver ejercicios. Guarda el archivo con el nombre del capítulo o la fecha para organizarlo."
   ]
  },
  {
   "cell_type": "markdown",
   "id": "5fc82c8c",
   "metadata": {},
   "source": [
    "## Fecha\n",
    "\n",
    "Escribe aquí la fecha de estudio."
   ]
  },
  {
   "cell_type": "markdown",
   "id": "15beb38c",
   "metadata": {},
   "source": [
    "## Capítulo / Tema\n",
    "\n",
    "Indica el capítulo o tema que vas a estudiar hoy (por ejemplo: Capítulo 3 - Condicionales)."
   ]
  },
  {
   "cell_type": "markdown",
   "id": "7a6d682a",
   "metadata": {},
   "source": [
    "## Vídeo correspondiente\n",
    "\n",
    "Pega aquí el enlace al vídeo del curso y notas breves sobre qué partes ver."
   ]
  },
  {
   "cell_type": "markdown",
   "id": "1a7752cc",
   "metadata": {},
   "source": [
    "## Resumen teórico\n",
    "\n",
    "Escribe un resumen con tus propias palabras de los puntos clave del capítulo."
   ]
  },
  {
   "cell_type": "markdown",
   "id": "6f0a4f42",
   "metadata": {},
   "source": [
    "## Ejemplos de código\n",
    "\n",
    "Incluye aquí ejemplos extra o variaciones de los que salen en el libro. Ejecuta las celdas de código para comprobar el resultado."
   ]
  },
  {
   "cell_type": "code",
   "execution_count": null,
   "id": "de267cfb",
   "metadata": {},
   "outputs": [],
   "source": [
    "# Ejemplo: imprimir y operaciones básicas\n",
    "print('Hola, mundo')\n",
    "\n",
    "x = 5\n",
    "y = 3\n",
    "print('Suma:', x + y)"
   ]
  },
  {
   "cell_type": "markdown",
   "id": "b8075359",
   "metadata": {},
   "source": [
    "## Ejercicios - Enunciado\n",
    "\n",
    "Copia aquí el enunciado del ejercicio que vas a resolver."
   ]
  },
  {
   "cell_type": "code",
   "execution_count": null,
   "id": "cba645fb",
   "metadata": {},
   "outputs": [],
   "source": [
    "# Escribe aquí la solución del ejercicio\n",
    "\n",
    "# Por ejemplo:\n",
    "# def ejemplo():\n",
    "#     pass"
   ]
  },
  {
   "cell_type": "markdown",
   "id": "ee56143f",
   "metadata": {},
   "source": [
    "## Errores comunes y notas de depuración\n",
    "\n",
    "Anota los errores que te han salido y cómo los solucionaste."
   ]
  },
  {
   "cell_type": "markdown",
   "id": "7acf1da9",
   "metadata": {},
   "source": [
    "## Resumen de la sesión / Dudas pendientes\n",
    "\n",
    "Apunta lo que te ha resultado más difícil y qué debes repasar en la próxima sesión."
   ]
  },
  {
   "cell_type": "markdown",
   "id": "3c82e832",
   "metadata": {},
   "source": [
    "## Referencias\n",
    "\n",
    "Enlaces útiles: libro, vídeo, documentación oficial, posts o tutoriales relevantes.\n",
    "\n",
    "Resumen de comandos mas utilizados Markdow\n",
    "---\n",
    "### Comandos básicos de Markdown para tus apuntes\n",
    "\n",
    "#### Formato de texto\n",
    "* **Negrita:** `**texto**` o `__texto__` -> **texto**\n",
    "* **Cursiva:** `*texto*` o `_texto_` -> *texto*\n",
    "* **Negrita y Cursiva:** `***texto***` o `___texto___` -> ***texto***\n",
    "* **Tachado:** `~~texto~~` -> ~~texto~~\n",
    "* **Código en línea:** ` `texto` ` -> `texto`\n",
    "\n",
    "#### Encabezados (Títulos)\n",
    "* `# Título 1`\n",
    "* `## Título 2`\n",
    "* `### Título 3`\n",
    "\n",
    "#### Listas\n",
    "* **Lista no ordenada:** usa `*`, `-`, o `+` seguido de un espacio.\n",
    "    * `* Elemento 1`\n",
    "    * `* Elemento 2`\n",
    "* **Lista ordenada:** usa un número y un punto seguido de un espacio.\n",
    "    * `1. Elemento 1`\n",
    "    * `2. Elemento 2`\n",
    "\n",
    "### Listas anidadas\n",
    "1. Primer elemento de la lista principal\n",
    "    * Sub-elemento 1\n",
    "    * Sub-elemento 2\n",
    "2. Segundo elemento de la lista principal\n",
    "    - Sub-elemento A\n",
    "        1. Sub-sub-elemento 1\n",
    "        2. Sub-sub-elemento 2\n",
    "        \n",
    "#### Enlaces e imágenes\n",
    "* **Enlace:** `[Texto del enlace](url)`\n",
    "* **Imagen:** `![Texto alternativo](url_de_la_imagen)`\n",
    "\n",
    "#### Bloques de código\n",
    "Usa tres tildes invertidas ` ``` ` para crear un bloque de código, y opcionalmente añade el nombre del lenguaje para resaltar la sintaxis.\n",
    "```python\n",
    "def ejemplo():\n",
    "    print('Hola mundo')\n"
   ]
  }
 ],
 "metadata": {
  "language_info": {
   "name": "python"
  }
 },
 "nbformat": 4,
 "nbformat_minor": 5
}
