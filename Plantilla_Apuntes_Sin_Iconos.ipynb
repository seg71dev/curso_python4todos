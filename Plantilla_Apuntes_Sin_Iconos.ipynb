{
 "cells": [
  {
   "cell_type": "markdown",
   "id": "2e2c8eca",
   "metadata": {},
   "source": [
    "# Plantilla de Apuntes y Ejercicios\n",
    "\n",
    "Usa este Notebook para tomar apuntes, probar código y resolver ejercicios. Guarda el archivo con el nombre del capítulo o la fecha para organizarlo."
   ]
  },
  {
   "cell_type": "markdown",
   "id": "5fc82c8c",
   "metadata": {},
   "source": [
    "## Fecha\n",
    "\n",
    "Escribe aquí la fecha de estudio."
   ]
  },
  {
   "cell_type": "code",
   "execution_count": null,
   "id": "47ba4c0a",
   "metadata": {},
   "outputs": [],
   "source": []
  },
  {
   "cell_type": "markdown",
   "id": "15beb38c",
   "metadata": {},
   "source": [
    "## Capítulo / Tema\n",
    "\n",
    "Indica el capítulo o tema que vas a estudiar hoy (por ejemplo: Capítulo 3 - Condicionales)."
   ]
  },
  {
   "cell_type": "markdown",
   "id": "7a6d682a",
   "metadata": {},
   "source": [
    "## Vídeo correspondiente\n",
    "\n",
    "Pega aquí el enlace al vídeo del curso y notas breves sobre qué partes ver."
   ]
  },
  {
   "cell_type": "markdown",
   "id": "1a7752cc",
   "metadata": {},
   "source": [
    "## Resumen teórico\n",
    "\n",
    "Escribe un resumen con tus propias palabras de los puntos clave del capítulo."
   ]
  },
  {
   "cell_type": "markdown",
   "id": "6f0a4f42",
   "metadata": {},
   "source": [
    "## Ejemplos de código\n",
    "\n",
    "Incluye aquí ejemplos extra o variaciones de los que salen en el libro. Ejecuta las celdas de código para comprobar el resultado."
   ]
  },
  {
   "cell_type": "code",
   "execution_count": null,
   "id": "de267cfb",
   "metadata": {},
   "outputs": [],
   "source": [
    "# Ejemplo: imprimir y operaciones básicas\n",
    "print('Hola, mundo')\n",
    "\n",
    "x = 5\n",
    "y = 3\n",
    "print('Suma:', x + y)"
   ]
  },
  {
   "cell_type": "markdown",
   "id": "b8075359",
   "metadata": {},
   "source": [
    "## Ejercicios - Enunciado\n",
    "\n",
    "Copia aquí el enunciado del ejercicio que vas a resolver."
   ]
  },
  {
   "cell_type": "code",
   "execution_count": null,
   "id": "cba645fb",
   "metadata": {},
   "outputs": [],
   "source": [
    "# Escribe aquí la solución del ejercicio\n",
    "\n",
    "# Por ejemplo:\n",
    "# def ejemplo():\n",
    "#     pass"
   ]
  },
  {
   "cell_type": "markdown",
   "id": "ee56143f",
   "metadata": {},
   "source": [
    "## Errores comunes y notas de depuración\n",
    "\n",
    "Anota los errores que te han salido y cómo los solucionaste."
   ]
  },
  {
   "cell_type": "markdown",
   "id": "7acf1da9",
   "metadata": {},
   "source": [
    "## Resumen de la sesión / Dudas pendientes\n",
    "\n",
    "Apunta lo que te ha resultado más difícil y qué debes repasar en la próxima sesión."
   ]
  },
  {
   "cell_type": "markdown",
   "id": "3c82e832",
   "metadata": {},
   "source": [
    "## Referencias\n",
    "\n",
    "Enlaces útiles: libro, vídeo, documentación oficial, posts o tutoriales relevantes."
   ]
  }
 ],
 "metadata": {
  "kernelspec": {
   "display_name": "Python 3",
   "language": "python",
   "name": "python3"
  },
  "language_info": {
   "name": "python",
   "version": "3.13.3"
  }
 },
 "nbformat": 4,
 "nbformat_minor": 5
}
