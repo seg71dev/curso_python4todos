{
 "cells": [
  {
   "cell_type": "markdown",
   "id": "994b4e9f-b372-4d9d-aa1a-4175761bc9a0",
   "metadata": {},
   "source": [
    "# Ejercicios Capitulo 2 "
   ]
  },
  {
   "cell_type": "markdown",
   "id": "ae73a166-a1f8-440f-b8c5-68c12e35c7a8",
   "metadata": {},
   "source": [
    "## Ejercicios 100 problemas Python"
   ]
  },
  {
   "attachments": {
    "063fce2f-220e-4b00-b048-1cf1019287fc.png": {
     "image/png": "[encoded data removed]"
    }
   },
   "cell_type": "markdown",
   "id": "23d7230f-9d45-43b3-b25d-cbccdbfb2684",
   "metadata": {},
   "source": [
    "1. Write a Python program that prints the length of a string s.\n",
    "![image.png](attachment:063fce2f-220e-4b00-b048-1cf1019287fc.png)"
   ]
  },
  {
   "cell_type": "code",
   "execution_count": null,
   "id": "70580788-dfbd-45d1-b927-3821359f92ac",
   "metadata": {},
   "outputs": [
    {
     "name": "stdout",
     "output_type": "stream",
     "text": [
      "0\n",
      "1\n",
      "5\n",
      "7\n"
     ]
    }
   ],
   "source": [
    "print(len(\"\"))\n",
    "print(len(\"H\"))\n",
    "print(len(\"Hello\"))\n",
    "print(len(\"Amazing\"))"
   ]
  },
  {
   "cell_type": "markdown",
   "id": "f5ecf826-27e5-4aa0-9ca5-24e72e114b58",
   "metadata": {},
   "source": [
    "2. Desafío: Imprimir el carácter en un índice específico"
   ]
  },
  {
   "cell_type": "code",
   "execution_count": null,
   "id": "4b9fa296-d47d-415e-9bc5-825ef51eb48c",
   "metadata": {},
   "outputs": [
    {
     "name": "stdout",
     "output_type": "stream",
     "text": [
      "H\n"
     ]
    }
   ],
   "source": [
    "#Description:\n",
    "#Write a Python program that prints the character at index i in the string s.\n",
    "#If the index is out of range, the program should print \"i out of range\"\n",
    "#If the string is empty, the program should print \"Empty String\"\n",
    "\n",
    "# Opcion 1\n",
    "hel = \"Hello\"\n",
    "i = 0\n",
    "if len(hel) == 0:\n",
    "    print(\"El string esta vacio\")\n",
    "elif i < len(hel):\n",
    "    print(hel[i])\n",
    "else:\n",
    "    print(\"Fuera de rango\")"
   ]
  },
  {
   "cell_type": "code",
   "execution_count": null,
   "id": "6d5d1925-6b99-4939-aa30-927db5cdf096",
   "metadata": {},
   "outputs": [
    {
     "name": "stdout",
     "output_type": "stream",
     "text": [
      "H\n"
     ]
    }
   ],
   "source": [
    "# Opcio 2\n",
    "s = \"Hello\"\n",
    "i = 0\n",
    "\n",
    "if not s: # \"not s\" significa “si s está vacío”.\n",
    "    print(\"Empty String\")\n",
    "elif i < len(s):\n",
    "    print(s[i])\n",
    "else:\n",
    "    print(\"i out of range\")\n"
   ]
  },
  {
   "cell_type": "markdown",
   "id": "830fe2ff-3f8e-4293-9d1a-130f676c16ff",
   "metadata": {},
   "source": [
    "3. Challenge: Reverse a String\n",
    "Description:\n",
    "Write a Python Program that prints the reversed version of a string.\n",
    "\n",
    "The program must preserve uppercase and lowercase letters.\n",
    "\n",
    "If the string is empty, print it intact."
   ]
  },
  {
   "cell_type": "code",
   "execution_count": null,
   "id": "bef0e108-7f80-4fa6-993e-0ac698350ba2",
   "metadata": {},
   "outputs": [
    {
     "name": "stdout",
     "output_type": "stream",
     "text": [
      "ello\n",
      "olleH\n"
     ]
    }
   ],
   "source": [
    "#opcion 1\n",
    "x = \"Hello\"\n",
    "y = x[1::]\n",
    "z = x[::-1]\n",
    "print(y)\n",
    "print(z)"
   ]
  },
  {
   "cell_type": "markdown",
   "id": "8e85d145-56f6-424b-b9d1-06d54db857e6",
   "metadata": {},
   "source": [
    "Explicacion segunda opcion\n",
    "s = \"Hello\"\n",
    "Define la cadena original. No se modifica en ningún momento.\n",
    "\n",
    "**reversed(s)**\n",
    "\n",
    "    1. **Devuelve un iterador que recorre s al revés.**\n",
    "    2. Para \"Hello\" entregará los caracteres en este orden: 'o', 'l', 'l', 'e', 'H'.\n",
    "    3. **Importante: no devuelve una cadena; por eso no se puede imprimir tal cual.**\n",
    "\n",
    "**\"\".join(reversed(s))**\n",
    "\n",
    "    1. str.join(iterable) concatena todos los elementos del iterable usando la cadena a la izquierda como separador.\n",
    "Aquí el separador es \"\" (cadena vacía), así que simplemente une los caracteres en una nueva cadena:\n",
    "'' + 'o' + 'l' + 'l' + 'e' + 'H' → \"olleH\"\n",
    "\n",
    "    2. El resultado se guarda en reversed_word.\n",
    "\n",
    "print(reversed_word)\n",
    "Imprime la cadena invertida. Salida:"
   ]
  },
  {
   "cell_type": "code",
   "execution_count": null,
   "id": "3021d1ef-107b-4b0c-94d9-89fe4c56dd34",
   "metadata": {},
   "outputs": [
    {
     "name": "stdout",
     "output_type": "stream",
     "text": [
      "olleH\n"
     ]
    }
   ],
   "source": [
    "#opcion 2\n",
    "s = \"Hello\"\n",
    "reversed_word = \"\".join(reversed(s))\n",
    "print(reversed_word)\n"
   ]
  },
  {
   "cell_type": "markdown",
   "id": "2a0fad3a-332d-4d3e-a596-8c0eb454fffe",
   "metadata": {},
   "source": [
    "4. Descripción:\n",
    "Escriba un programa de Python que imprima el primer y el último carácter de la cadena como una sola cadena.s\n",
    "\n",
    "Si la cadena tiene menos de seis caracteres, imprima una cadena vacía (salida en blanco)."
   ]
  },
  {
   "cell_type": "code",
   "execution_count": null,
   "id": "752a7d9f",
   "metadata": {},
   "outputs": [
    {
     "data": {
      "text/plain": [
       "12"
      ]
     },
     "execution_count": 6,
     "metadata": {},
     "output_type": "execute_result"
    }
   ],
   "source": [
    "4+8"
   ]
  },
  {
   "cell_type": "markdown",
   "id": "dcd15753",
   "metadata": {},
   "source": []
  },
  {
   "cell_type": "markdown",
   "id": "9307f6da",
   "metadata": {},
   "source": [
    "5. Escriba un programa en Python que imprima el carácter en el índice i de la cadena s"
   ]
  },
  {
   "cell_type": "code",
   "execution_count": null,
   "id": "4465204b",
   "metadata": {},
   "outputs": [
    {
     "name": "stdout",
     "output_type": "stream",
     "text": [
      "10\n",
      "o\n",
      "u\n",
      "El indice esta fuera de rango\n"
     ]
    }
   ],
   "source": [
    "# sentecia que imprime el indice de una cadena  [i]\n",
    "s = \"Hola mundo\"\n",
    "print(len(s))\n",
    "print(s[1])\n",
    "print(s[6])\n",
    "i = 10\n",
    "if i < 10:\n",
    "    print(f\"El caracter es\",{s[i]})\n",
    "else:\n",
    "    print(\"El indice esta fuera de rango\")\n",
    "\n"
   ]
  },
  {
   "cell_type": "markdown",
   "id": "04784043",
   "metadata": {},
   "source": [
    "6. Descripción: Escriba un programa en Python que imprima los tres primeros y los últimos tres caracteres de la cadena s como una sola cadena. Si la cadena tiene menos de seis caracteres, imprima una cadena vacía (salida en blanco)."
   ]
  },
  {
   "cell_type": "code",
   "execution_count": null,
   "id": "cffec621",
   "metadata": {},
   "outputs": [
    {
     "name": "stdout",
     "output_type": "stream",
     "text": [
      "Hol\n",
      "ndo\n",
      "Hol ndo\n"
     ]
    }
   ],
   "source": [
    "p = \"Hola mundo\"\n",
    "p1 = p[:3]\n",
    "print(p1)\n",
    "p2 = p[7:]\n",
    "print(p2)\n",
    "print(p1, p2)"
   ]
  },
  {
   "cell_type": "markdown",
   "id": "46e7d80b",
   "metadata": {},
   "source": [
    "7. Escriba un programa en Python que imprima la cadena s sin los caracteres ubicados en los índices pares. Si la cadena está vacía o solo tiene un carácter, imprímala sin cambios."
   ]
  },
  {
   "cell_type": "code",
   "execution_count": null,
   "id": "c81b7c66",
   "metadata": {},
   "outputs": [
    {
     "name": "stdout",
     "output_type": "stream",
     "text": [
      "24\n",
      "oaMno e nvro\n",
      "oaMno e nvro\n"
     ]
    }
   ],
   "source": [
    "p = 'Hola Mundos del universo'\n",
    "print(len(p))\n",
    "#print(p)\n",
    "#p1 = p[0:24:2]\n",
    "#print(p1)\n",
    "new_p = \"\"\n",
    "for i in range (len(p)):\n",
    "    if i % 2 != 0:\n",
    "         new_p += p[i]\n",
    "print(new_p)\n",
    "print(p[1:len(p):2])"
   ]
  },
  {
   "cell_type": "markdown",
   "id": "1f74625f",
   "metadata": {},
   "source": [
    "8. Extraer una parte de una cadena\n",
    "\n",
    "Dada la cadena: \"Aprendiendo slicing en Python\"\n",
    "Obtén la palabra \"Python\" usando slicing."
   ]
  },
  {
   "cell_type": "code",
   "execution_count": null,
   "id": "ef170538",
   "metadata": {},
   "outputs": [
    {
     "name": "stdout",
     "output_type": "stream",
     "text": [
      "29\n",
      "Python\n",
      "Aprendiendo slicing en Python\n",
      "Hola \n"
     ]
    }
   ],
   "source": [
    "# slicing \n",
    "cad1 = \"Aprendiendo slicing en Python\"\n",
    "print(len(cad1))\n",
    "print(cad1[23:])\n",
    "print(cad1[-29:])\n",
    "print(\"Hola\",cad1[:-29])"
   ]
  },
  {
   "cell_type": "markdown",
   "id": "3dedb77a",
   "metadata": {},
   "source": [
    "Usar índices negativos\n",
    "\n",
    "Con:\n",
    "\n",
    "palabra = \"Computadora\"\n",
    "\n",
    "\n",
    "➡️ Usa índices negativos para obtener \"dora\"."
   ]
  },
  {
   "cell_type": "code",
   "execution_count": null,
   "id": "a1fdc5f2",
   "metadata": {},
   "outputs": [
    {
     "name": "stdout",
     "output_type": "stream",
     "text": [
      "11\n"
     ]
    },
    {
     "data": {
      "text/plain": [
       "'com'"
      ]
     },
     "execution_count": 11,
     "metadata": {},
     "output_type": "execute_result"
    }
   ],
   "source": [
    "palabra = \"computadora\"\n",
    "print(len(palabra))\n",
    "palabra[:-8]"
   ]
  },
  {
   "cell_type": "code",
   "execution_count": null,
   "id": "d4b202af",
   "metadata": {},
   "outputs": [],
   "source": []
  },
  {
   "cell_type": "markdown",
   "id": "9d39cb2c",
   "metadata": {},
   "source": [
    "Aquí tienes una **serie de ejercicios prácticos centrados exclusivamente en índices negativos con *slicing***.\n",
    "\n",
    "Están ordenados por dificultad creciente.\n",
    "Cada uno busca que pienses **cómo se traduce el índice negativo al positivo** y qué parte de la cadena estás extrayendo.\n",
    "\n",
    "---\n",
    "\n",
    "## 🧩 **Ejercicios: Slicing con índices negativos**\n",
    "\n",
    "Usaremos esta cadena base:\n",
    "\n",
    "```python\n",
    "cad = \"Aprendiendo slicing en Python\"\n",
    "```\n",
    "\n",
    "---\n",
    "\n",
    "### **1. Última letra**\n",
    "\n",
    "Obtén **la última letra** de la cadena usando un índice negativo.\n",
    "\n",
    "---\n",
    "\n",
    "### **2. Últimos tres caracteres**\n",
    "\n",
    "Extrae **las tres últimas letras** de la cadena con slicing negativo.\n",
    "\n",
    "---\n",
    "\n",
    "### **3. Todo excepto la última palabra**\n",
    "\n",
    "Usando *slicing*, obtén la parte `\"Aprendiendo slicing en\"`\n",
    "(sin incluir `\"Python\"`) utilizando **solo índices negativos**.\n",
    "\n",
    "---\n",
    "\n",
    "### **4. Desde el cuarto carácter desde el final hasta el final**\n",
    "\n",
    "Usa *slicing* para obtener las últimas 4 letras (incluyendo la última).\n",
    "\n",
    "---\n",
    "\n",
    "### **5. Desde el sexto carácter desde el final hasta el penúltimo**\n",
    "\n",
    "Extrae un fragmento que empiece 6 posiciones antes del final y termine justo **antes del último** carácter.\n",
    "\n",
    "---\n",
    "\n",
    "### **6. Desde el inicio hasta el cuarto carácter desde el final**\n",
    "\n",
    "Extrae la subcadena que **excluya las últimas 4 letras**, usando solo índices negativos.\n",
    "\n",
    "---\n",
    "\n",
    "### **7. Todo menos los 10 últimos caracteres**\n",
    "\n",
    "Muestra la cadena original pero **sin las 10 últimas posiciones**, usando slicing con negativos.\n",
    "\n",
    "---\n",
    "\n",
    "### **8. Revertir la cadena**\n",
    "\n",
    "Usa *slicing* con paso `-1` para invertir completamente la cadena.\n",
    "\n",
    "---\n",
    "\n",
    "### **9. Revertir solo la última palabra**\n",
    "\n",
    "Usa *slicing* negativo (y conocimiento de índices) para invertir **solo la palabra `\"Python\"`** dentro de la cadena.\n",
    "\n",
    "---\n",
    "\n",
    "### **10. Extraer cada 2º carácter desde el final hacia el inicio**\n",
    "\n",
    "Usa un paso `-2` para obtener la cadena en orden inverso, **saltando de dos en dos**.\n",
    "\n",
    "---\n",
    "\n",
    "¿Quieres que te dé **pistas progresivas** para cada uno (por ejemplo: una pista leve, media y fuerte), o prefieres resolverlos libremente y luego revisar tus respuestas conmigo?\n"
   ]
  },
  {
   "cell_type": "code",
   "execution_count": null,
   "id": "97230efd",
   "metadata": {},
   "outputs": [
    {
     "name": "stdout",
     "output_type": "stream",
     "text": [
      "29\n",
      "n\n",
      "hon\n",
      "Aprendiendo slicing en \n",
      "Aprendiendo slicing en \n",
      "4 thon\n",
      "Pytho\n",
      "Aprendiendo slicing\n",
      "nohtyP ne gnicils odneidnerpA\n",
      "nohtyP\n",
      "nhy egiisoninrA\n"
     ]
    }
   ],
   "source": [
    "# Ejercicios scling cvon esta cadena \n",
    "cad = \"Aprendiendo slicing en Python\"\n",
    "print(len(cad))\n",
    "\n",
    "# Obtén **la última letra** de la cadena usando un índice negativo.\n",
    "print(cad[-1])\n",
    "\n",
    "#Extrae **las tres últimas letras** de la cadena con slicing negativo.\n",
    "print(cad[-3:])\n",
    "\n",
    "#### **3. Todo excepto la última palabra**\n",
    "print(cad[0:-6])\n",
    "print(cad[:-6])\n",
    "\n",
    "### **4. Desde el cuarto carácter desde el final hasta el final**\n",
    "print(\"4\", cad[-4:])\n",
    "\n",
    "### **5. Desde el sexto carácter desde el final hasta el penúltimo**\n",
    "print(cad[-6:-1])\n",
    "\n",
    "### **7. Todo menos los 10 últimos caracteres**\n",
    "print(cad[:-10])\n",
    "\n",
    "### **8. Revertir la cadena**\n",
    "print(cad[::-1])\n",
    "\n",
    "### **9. Revertir solo la última palabra**\n",
    "print(cad[-1:-7:-1])\n",
    "\n",
    "### **10. Extraer cada 2º carácter desde el final hacia el inicio**\n",
    "print(cad[::-2])\n",
    "\n"
   ]
  },
  {
   "cell_type": "code",
   "execution_count": null,
   "id": "a0193232",
   "metadata": {},
   "outputs": [
    {
     "name": "stdout",
     "output_type": "stream",
     "text": [
      "An\n",
      "prendiendo slicing en Pytho\n"
     ]
    }
   ],
   "source": [
    "#1. Primer y último carácter\n",
    "print(cad[-29::28])\n",
    "\n",
    "#2. Subcadena sin los extremos\n",
    "#Muestra la cadena anterior sin el primer ni el último carácter, usando slicing.\n",
    "print(cad[-28:-1])\n"
   ]
  },
  {
   "cell_type": "markdown",
   "id": "d3352435",
   "metadata": {},
   "source": [
    "## Enunciados de los Ejercicios y Temas del Video: Python Strings\n",
    "\n",
    "1.  Crear una cadena de caracteres (**string**) en Python [00:00:55]\n",
    "2.  **Literales de cadena (String Literals):** Comillas simples, dobles y triples (cadenas multi-línea) [02:17]\n",
    "3.  **Acceder a subcadenas usando Slicing (Rebanado)** [03:38]\n",
    "4.  **Indexación Negativa (Negative Indexing)** para acceder a subcadenas [04:41]\n",
    "5.  **Acceder a un carácter individual** en una cadena de Python [06:03]\n",
    "6.  **Concatenar una cadena en Python** (usando el operador `+`) [06:42]\n",
    "7.  **Método `capitalize()`**: Convierte la primera letra a mayúscula [07:37]\n",
    "8.  **Método `casefold()`**: Convierte la cadena a minúsculas (más agresivo que `lower()`) [08:15]\n",
    "9.  **Método `center()`**: Alinea la cadena al centro [09:06]\n",
    "10. **Método `count()`**: Cuenta las ocurrencias de una subcadena [10:27]\n",
    "11. **Método `find()`**: Busca la primera ocurrencia de una subcadena y devuelve su índice [12:05]\n",
    "12. **Método `endswith()`**: Comprueba si la cadena termina con un valor específico [13:24]\n",
    "13. **Método `expandtabs()`**: Establece el tamaño de las pestañas (`\\t`) [14:43]\n",
    "14. **Método `index()`**: Busca la primera ocurrencia y devuelve el índice (lanza error si no encuentra) [16:21]\n",
    "15. **Método `isalnum()`**: Comprueba si todos los caracteres son alfanuméricos [17:47]\n",
    "16. **Método `isalpha()`**: Comprueba si todos los caracteres son alfabéticos [18:31]\n",
    "17. **Método `isdecimal()`**: Comprueba si todos los caracteres son decimales [19:13]\n",
    "18. **Método `isdigit()`**: Comprueba si todos los caracteres son dígitos [19:41]\n",
    "19. **Método `isidentifier()`**: Comprueba si la cadena es un identificador válido de Python [20:08]\n",
    "20. **Método `islower()`**: Comprueba si todos los caracteres son minúsculas [20:44]\n",
    "21. **Método `isnumeric()`**: Comprueba si todos los caracteres son numéricos [21:20]\n",
    "22. **Método `isprintable()`**: Comprueba si todos los caracteres son imprimibles [21:49]\n",
    "23. **Método `isspace()`**: Comprueba si todos los caracteres son espacios en blanco [22:20]\n",
    "24. **Método `istitle()`**: Comprueba si la cadena sigue las reglas de un título (primera letra de cada palabra en mayúscula) [22:52]\n",
    "25. **Método `isupper()`**: Comprueba si todos los caracteres son mayúsculas [23:41]\n",
    "26. **Método `join()`**: Une los elementos de un iterable con la cadena como separador [24:17]\n",
    "27. **Método `lower()`**: Convierte todos los caracteres a minúsculas [25:44]\n",
    "28. **Método `lstrip()`**: Elimina caracteres (por defecto espacios) del **inicio (izquierda)** de la cadena [26:19]\n",
    "29. **Método `replace()`**: Reemplaza una subcadena por otra [26:55]\n",
    "30. **Método `rfind()`**: Busca la **última** ocurrencia de una subcadena y devuelve su índice [28:36]\n",
    "31. **Método `rindex()`**: Busca la **última** ocurrencia y devuelve el índice (lanza error si no encuentra) [29:54]\n",
    "32. **Método `rjust()`**: Justifica la cadena a la **derecha** [31:08]\n",
    "33. **Método `rsplit()`**: Divide la cadena en una lista, comenzando desde la **derecha** [32:04]\n",
    "34. **Método `rstrip()`**: Elimina caracteres (por defecto espacios) del **final (derecha)** de la cadena [33:10]\n",
    "35. **Método `split()`**: Divide una cadena en una lista [34:31]\n",
    "36. **Método `splitlines()`**: Divide la cadena en una lista de líneas [35:40]\n",
    "37. **Método `startswith()`**: Comprueba si la cadena comienza con un valor específico [36:48]\n",
    "38. **Método `swapcase()`**: Intercambia mayúsculas por minúsculas y viceversa [38:10]\n",
    "39. **Método `title()`**: Convierte la primera letra de cada palabra a mayúscula (formato título) [38:47]\n",
    "40. **Método `upper()`**: Convierte todos los caracteres a mayúsculas [39:23]\n",
    "41. **Método `zfill()`**: Rellena con ceros a la izquierda [39:52]\n",
    "42. **Método `strip()`**: Elimina espacios del principio y el final de la cadena [41:16]"
   ]
  },
  {
   "cell_type": "code",
   "execution_count": null,
   "id": "80e088a6",
   "metadata": {},
   "outputs": [
    {
     "name": "stdout",
     "output_type": "stream",
     "text": [
      "Hola seg, tienes 34 años.\n"
     ]
    }
   ],
   "source": [
    "#Crea un programa que:\n",
    "#Pida al usuario su nombre y su edad.\n",
    "#Guarde ambos valores en variables.\n",
    "#Muestre un mensaje como: Hola Juan, tienes 23 años.\n",
    "\n",
    "nombre = str(input(\"Dime tu nombre: \"))\n",
    "edad = int(input(\"Dime tu edad: \"))\n",
    "print(f\"Hola {nombre}, tienes {edad} años.\")"
   ]
  },
  {
   "cell_type": "code",
   "execution_count": null,
   "id": "5088f566",
   "metadata": {},
   "outputs": [
    {
     "name": "stdout",
     "output_type": "stream",
     "text": [
      "My name is Segundo\n",
      "Mi nombre es Segundo1\n",
      "Mi nombre es Segundo2\n",
      "Mi nombre es Segundo \n",
      "y vivo en Espña \n"
     ]
    }
   ],
   "source": [
    "# CADENAS O STRINGS\n",
    "str = \"My name is Segundo\"\n",
    "print(str)\n",
    "\n",
    "#Literales\n",
    "str1 = \"Mi nombre es Segundo1\"\n",
    "print(str1) \n",
    "str2 = 'Mi nombre es Segundo2'\n",
    "print(str2)\n",
    "\n",
    "# Cadena de varias lineas\n",
    "str3 = \"\"\"Mi nombre es Segundo \n",
    "y vivo en Espña \"\"\"\n",
    "print(str3)"
   ]
  },
  {
   "cell_type": "code",
   "execution_count": null,
   "id": "390b437f",
   "metadata": {},
   "outputs": [
    {
     "name": "stdout",
     "output_type": "stream",
     "text": [
      "20\n",
      "Mi nobre es Segundo\n",
      "Segundo\n",
      "s S\n"
     ]
    }
   ],
   "source": [
    "# Acceso a subcadenas slicing\n",
    "dr = \"Mi nombre es Segundo\"\n",
    "print(len(dr))\n",
    "print(\"Mi nobre es\", dr[13:20])\n",
    "\n",
    "# Indexación Negativa\n",
    "tr = \"Mi nobre es Segundo\"\n",
    "print(tr[-7:])\n",
    "print(tr[-9:-6])"
   ]
  },
  {
   "cell_type": "code",
   "execution_count": null,
   "id": "6b607acc",
   "metadata": {},
   "outputs": [
    {
     "name": "stdout",
     "output_type": "stream",
     "text": [
      "S\n"
     ]
    }
   ],
   "source": [
    "# Acceso a cadenas en Python\n",
    "yr = \"Mi nombre es Segundo\"\n",
    "print(yr[13])"
   ]
  },
  {
   "cell_type": "code",
   "execution_count": null,
   "id": "a4622744",
   "metadata": {},
   "outputs": [
    {
     "name": "stdout",
     "output_type": "stream",
     "text": [
      "Mi nombre Segundo\n",
      "Mi nombre Segundo\n"
     ]
    }
   ],
   "source": [
    "#Concatenar cadenas en Python\n",
    "gr = \"Mi nombre \"\n",
    "hr = \"Segundo\"\n",
    "nr = gr + hr\n",
    "print(nr)\n",
    "print(gr + hr)"
   ]
  },
  {
   "cell_type": "code",
   "execution_count": null,
   "id": "feaf91c1",
   "metadata": {},
   "outputs": [
    {
     "name": "stdout",
     "output_type": "stream",
     "text": [
      "Hola pepito\n",
      "hola pipito mañana\n",
      "########Demo########\n"
     ]
    }
   ],
   "source": [
    "# Metodos de cadena \n",
    "\n",
    "# Método capitalize() Ponen la primera Mayusculas \n",
    "lr = \"hola pepito\"\n",
    "print(lr.capitalize()) # Pone la primera en mayuscula\n",
    "\n",
    "# Metodo casefold() pone las mayusculas en minusculas en minuscula\n",
    "nr = \"Hola PiPiTo MaÑaNa\"\n",
    "print(nr.casefold())\n",
    "\n",
    "# Método center() para alinerar la cadena al centro.\n",
    "# y añadir q carracter ira a la derecha y a la iaquierda.\n",
    "llr = \"Demo\"\n",
    "print(llr.center(20,\"#\"))"
   ]
  },
  {
   "cell_type": "code",
   "execution_count": null,
   "id": "0126a0ba",
   "metadata": {},
   "outputs": [
    {
     "name": "stdout",
     "output_type": "stream",
     "text": [
      "4\n",
      "3\n",
      "12\n",
      "48\n",
      "25\n",
      "1 3\n",
      "2 24\n",
      "3 -1\n"
     ]
    }
   ],
   "source": [
    "# Método count() sirve para buscar y contar una subcadena\n",
    "# Tambien la posicion inicial y final de la busqueda\n",
    "nr = \"Esto es una demo, y otra demo , y otra demo demo\"\n",
    "print(nr.count(\"demo\"))\n",
    "print(nr.count(\"demo\", 18))\n",
    "\n",
    "# Método find(). Para buscar una letra en una cadena\n",
    "print(nr.find(\"d\"))\n",
    "print(len(nr))\n",
    "print(nr.find(\"demo\", 18, 48))\n",
    "\n",
    "nr1 = \"Mi demo preferida es la demo final\"\n",
    "\n",
    "print(1,nr1.find(\"demo\"))\n",
    "\n",
    "print(2,nr1.find(\"demo\", 10))\n",
    "\n",
    "print(3,nr1.find(\"demo\", 10, 20))\n"
   ]
  },
  {
   "cell_type": "code",
   "execution_count": null,
   "id": "9c540ff6",
   "metadata": {},
   "outputs": [
    {
     "name": "stdout",
     "output_type": "stream",
     "text": [
      "False\n",
      "True\n",
      "True\n",
      "H\to\tl\ta M\tu\tn\tdo\n",
      "H        o        l        a M      u        n        do\n",
      "2\n",
      "5\n",
      "1.- True\n",
      "2.- True\n",
      "3.- True\n",
      "4.- False\n"
     ]
    }
   ],
   "source": [
    "# Método endswitch(). Comprueba si la cadena termina con un valor especifico.\n",
    "# devuelve \"False\" o \"True\"\n",
    "xt = \"Hola mundo\"\n",
    "print(xt.endswith(\"q\"))\n",
    "print(xt.endswith(\"mundo\"))\n",
    "print(xt.endswith(\"mundo\", 0, 40))\n",
    "\n",
    "# Método expandstabs() indicar el tamaño de tabulación\n",
    "br = \"H\\to\\tl\\ta M\\tu\\tn\\tdo\"\n",
    "print(br)\n",
    "print(br.expandtabs(9))\n",
    "\n",
    "# Método index() nos dice el primer indice de una busqueda\n",
    "cr = \"This is the first text\"\n",
    "print(cr.index(\"i\"))\n",
    "print(cr.index(\"i\",3, 10))\n",
    "\n",
    "# Método islanum() mira si son alfanumericos\n",
    "nr = \"123456\"\n",
    "nr1 = \"123456n\"\n",
    "print(\"1.-\", nr.isalnum())\n",
    "print(\"2.-\", nr1.isalnum())\n",
    "\n",
    "# Método isalpha() devuelve \"True\" si son alfabeticos\n",
    "nr2 = \"aaaaa\"\n",
    "nr3 = \"123445\"\n",
    "print(\"3.-\", nr2.isalpha())\n",
    "print(\"4.-\",nr3.isalpha())\n"
   ]
  },
  {
   "cell_type": "code",
   "execution_count": null,
   "id": "2cf4e5f9",
   "metadata": {},
   "outputs": [
    {
     "name": "stdout",
     "output_type": "stream",
     "text": [
      "1.- True\n",
      "2.- False\n",
      "3.- True\n",
      "4.- False\n",
      "5.- True\n",
      "6.- False\n",
      "7.- True\n",
      "8.- False\n",
      "1234\n",
      "True\n",
      "2.37\n",
      "False\n"
     ]
    }
   ],
   "source": [
    "# Método isdecimal(). Si toda la cadena es decimal(0-9)\n",
    "nnr = \"1234\"\n",
    "nnr1 = \"2.37\"\n",
    "print(\"1.-\",nnr.isdecimal())\n",
    "print(\"2.-\",nnr1.isdecimal()) # CUIDADO NO CONFUNDIR\n",
    "\n",
    "#Método isdigit().\n",
    "print(\"3.-\",nnr.isdigit())\n",
    "print(\"4.-\",nnr1.isdigit())\n",
    "\n",
    "#Método isidentifier() mira si la cadena \n",
    "# cumple con las reglas de la variables. Pero es la cadena \n",
    "#no el nombre del a variable.\n",
    "var1 = \"pewpe\"\n",
    "var2 = \"5Pewpe\"\n",
    "print(\"5.-\", var1.isidentifier())\n",
    "print(\"6.-\", var2.isidentifier())\n",
    "\n",
    "# Método islower() si son todas minusculas\n",
    "print(\"7.-\",var1.islower())\n",
    "print(\"8.-\",var2.islower())\n",
    "\n",
    "# Método isnumeric(). \"True\" si todos son numericos\n",
    "print(nnr)\n",
    "print(nnr.isnumeric())\n",
    "print(nnr1)\n",
    "print(nnr1.isnumeric())"
   ]
  },
  {
   "cell_type": "code",
   "execution_count": null,
   "id": "d6b99f07",
   "metadata": {},
   "outputs": [
    {
     "name": "stdout",
     "output_type": "stream",
     "text": [
      "2.37\n",
      "1.- True\n",
      "Hay un espacio  \n",
      "True\n"
     ]
    }
   ],
   "source": [
    "# Método isprintable() \"True\" si todas son del alfabeto\n",
    "print(nnr1)\n",
    "print(\"1.-\",nnr1.isprintable())\n",
    "\n",
    "# Método issspace()\n",
    "sp = \" \"\n",
    "print(\"Hay un espacio\",sp)\n",
    "print(sp.isspace())\n"
   ]
  },
  {
   "cell_type": "markdown",
   "id": "3abc3d81",
   "metadata": {},
   "source": [
    "Ejercicio :Número Palíndromo"
   ]
  },
  {
   "cell_type": "code",
   "execution_count": null,
   "id": "d7f32969",
   "metadata": {},
   "outputs": [],
   "source": []
  },
  {
   "cell_type": "code",
   "execution_count": 1,
   "id": "a0451670",
   "metadata": {},
   "outputs": [
    {
     "name": "stdout",
     "output_type": "stream",
     "text": [
      "Debes introducir un número.\n"
     ]
    }
   ],
   "source": [
    "# Programa verificar si un número es palíndromo.(Se lee igual al revés)\n",
    " \n",
    "# controlamos lo que introduce el usuario.\n",
    "try:\n",
    "    nun_pal = int(input(\"Introduce un número y te dire si es palíndromo. \"))\n",
    "    num = str(nun_pal)\n",
    "    if nun_pal < 0 :\n",
    "        print(\"Este número no es palíndromo\")\n",
    "    elif num == num[::-1] :\n",
    "        print(\"Este número es palíndromo\")\n",
    "    else:\n",
    "        print(\"Este número no es palíndromo\")\n",
    "except:\n",
    "    print(\"Debes introducir un número.\")\n"
   ]
  }
 ],
 "metadata": {
  "kernelspec": {
   "display_name": "cursopy4e",
   "language": "python",
   "name": "python3"
  },
  "language_info": {
   "codemirror_mode": {
    "name": "ipython",
    "version": 3
   },
   "file_extension": ".py",
   "mimetype": "text/x-python",
   "name": "python",
   "nbconvert_exporter": "python",
   "pygments_lexer": "ipython3",
   "version": "3.13.9"
  }
 },
 "nbformat": 4,
 "nbformat_minor": 5
}
